{
 "cells": [
  {
   "cell_type": "markdown",
   "id": "breeding-welding",
   "metadata": {},
   "source": [
    "# points"
   ]
  },
  {
   "cell_type": "code",
   "execution_count": 1,
   "id": "technical-jersey",
   "metadata": {},
   "outputs": [],
   "source": [
    "from IPython.display import Image, SVG\n",
    "from os import system\n",
    "from drawbot_skia.drawbot import *\n",
    "\n",
    "def drawShow(name):\n",
    "    call = 'drawbot %s.py %s.png' % (name, name)\n",
    "    system(call)\n",
    "    return Image('%s.png' % name)"
   ]
  },
  {
   "cell_type": "markdown",
   "id": "cross-surname",
   "metadata": {},
   "source": [
    "### *pointCentered* --- normal point but from middle"
   ]
  },
  {
   "cell_type": "code",
   "execution_count": 9,
   "id": "increasing-infrastructure",
   "metadata": {},
   "outputs": [
    {
     "name": "stdout",
     "output_type": "stream",
     "text": [
      "Overwriting points_01.py\n"
     ]
    }
   ],
   "source": [
    "%%writefile points_01.py\n",
    "exec(open('geometrie.py').read())\n",
    "\n",
    "size(50,50)\n",
    "p = (20,20)\n",
    "\n",
    "stroke(0)\n",
    "pointCentered(p)"
   ]
  },
  {
   "cell_type": "code",
   "execution_count": 7,
   "id": "fallen-transfer",
   "metadata": {
    "scrolled": false
   },
   "outputs": [
    {
     "data": {
      "image/png": "[encoded data removed]",
      "text/plain": [
       "<IPython.core.display.Image object>"
      ]
     },
     "execution_count": 7,
     "metadata": {},
     "output_type": "execute_result"
    }
   ],
   "source": [
    "drawShow('points_01')"
   ]
  },
  {
   "cell_type": "markdown",
   "id": "nervous-finger",
   "metadata": {},
   "source": [
    "### *pointFromPoints* --- point drawn with single xy pairs"
   ]
  },
  {
   "cell_type": "code",
   "execution_count": 22,
   "id": "experienced-showcase",
   "metadata": {},
   "outputs": [
    {
     "name": "stdout",
     "output_type": "stream",
     "text": [
      "Overwriting points_02.py\n"
     ]
    }
   ],
   "source": [
    "%%writefile points_02.py\n",
    "exec(open('geometrie.py').read())\n",
    "\n",
    "size(200,100)\n",
    "p = (10,50)\n",
    "\n",
    "pointFromPoints(p)\n",
    "pointFromPoints((100,50),50)"
   ]
  },
  {
   "cell_type": "code",
   "execution_count": 23,
   "id": "limited-island",
   "metadata": {},
   "outputs": [
    {
     "data": {
      "image/png": "[encoded data removed]",
      "text/plain": [
       "<IPython.core.display.Image object>"
      ]
     },
     "execution_count": 23,
     "metadata": {},
     "output_type": "execute_result"
    }
   ],
   "source": [
    "drawShow('points_02')"
   ]
  },
  {
   "cell_type": "markdown",
   "id": "civil-grammar",
   "metadata": {},
   "source": [
    "### *ovalFromPoints*"
   ]
  },
  {
   "cell_type": "code",
   "execution_count": 24,
   "id": "posted-worth",
   "metadata": {},
   "outputs": [
    {
     "name": "stdout",
     "output_type": "stream",
     "text": [
      "Writing points_03.py\n"
     ]
    }
   ],
   "source": [
    "%%writefile points_03.py\n",
    "exec(open('geometrie.py').read())\n",
    "\n",
    "size(200,100)\n",
    "p = (10,50)\n",
    "\n",
    "ovalFromPoints(p)\n",
    "ovalFromPoints((100,50),50,100)"
   ]
  },
  {
   "cell_type": "code",
   "execution_count": 25,
   "id": "isolated-plaza",
   "metadata": {},
   "outputs": [
    {
     "data": {
      "image/png": "[encoded data removed]",
      "text/plain": [
       "<IPython.core.display.Image object>"
      ]
     },
     "execution_count": 25,
     "metadata": {},
     "output_type": "execute_result"
    }
   ],
   "source": [
    "drawShow('points_03')"
   ]
  },
  {
   "cell_type": "markdown",
   "id": "allied-shuttle",
   "metadata": {},
   "source": [
    "### *ovalFromPoints* with angular transformation"
   ]
  },
  {
   "cell_type": "code",
   "execution_count": 117,
   "id": "floppy-paintball",
   "metadata": {},
   "outputs": [
    {
     "name": "stdout",
     "output_type": "stream",
     "text": [
      "Overwriting points_04.py\n"
     ]
    }
   ],
   "source": [
    "%%writefile points_04.py\n",
    "exec(open('geometrie.py').read())\n",
    "\n",
    "size(600,100)\n",
    "p = (50,50)\n",
    "\n",
    "ovalFromPoints(p,100,50,0)\n",
    "translate(100,0)\n",
    "ovalFromPoints(p,100,50,1)\n",
    "translate(100,0)\n",
    "ovalFromPoints(p,100,50,2)"
   ]
  },
  {
   "cell_type": "code",
   "execution_count": 118,
   "id": "exclusive-compact",
   "metadata": {},
   "outputs": [
    {
     "data": {
      "image/png": "[encoded data removed]",
      "text/plain": [
       "<IPython.core.display.Image object>"
      ]
     },
     "execution_count": 118,
     "metadata": {},
     "output_type": "execute_result"
    }
   ],
   "source": [
    "drawShow('points_04')"
   ]
  },
  {
   "cell_type": "code",
   "execution_count": 131,
   "id": "connected-peoples",
   "metadata": {},
   "outputs": [
    {
     "name": "stdout",
     "output_type": "stream",
     "text": [
      "Overwriting points_05.py\n"
     ]
    }
   ],
   "source": [
    "%%writefile points_05.py\n",
    "exec(open('geometrie.py').read())\n",
    "\n",
    "size(200,100)\n",
    "p = (50,50)\n",
    "\n",
    "ovalRotated(p,100,50,45)"
   ]
  },
  {
   "cell_type": "code",
   "execution_count": 132,
   "id": "developing-judge",
   "metadata": {},
   "outputs": [
    {
     "data": {
      "image/png": "[encoded data removed]",
      "text/plain": [
       "<IPython.core.display.Image object>"
      ]
     },
     "execution_count": 132,
     "metadata": {},
     "output_type": "execute_result"
    }
   ],
   "source": [
    "drawShow('points_05')"
   ]
  },
  {
   "cell_type": "code",
   "execution_count": null,
   "id": "detected-basic",
   "metadata": {},
   "outputs": [],
   "source": []
  }
 ],
 "metadata": {
  "kernelspec": {
   "display_name": "Python 3",
   "language": "python",
   "name": "python3"
  },
  "language_info": {
   "codemirror_mode": {
    "name": "ipython",
    "version": 3
   },
   "file_extension": ".py",
   "mimetype": "text/x-python",
   "name": "python",
   "nbconvert_exporter": "python",
   "pygments_lexer": "ipython3",
   "version": "3.9.2"
  }
 },
 "nbformat": 4,
 "nbformat_minor": 5
}
