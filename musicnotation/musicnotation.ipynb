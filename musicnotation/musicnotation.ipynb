{
 "cells": [
  {
   "cell_type": "markdown",
   "id": "breeding-welding",
   "metadata": {},
   "source": [
    "# music notation with drawbot"
   ]
  },
  {
   "cell_type": "code",
   "execution_count": 1,
   "id": "technical-jersey",
   "metadata": {},
   "outputs": [],
   "source": [
    "from IPython.display import Image, SVG\n",
    "from os import system\n",
    "from drawbot_skia.drawbot import *\n",
    "\n",
    "def drawShow(name):\n",
    "    call = 'drawbot %s.py %s.png' % (name, name)\n",
    "    system(call)\n",
    "    return Image('%s.png' % name)"
   ]
  },
  {
   "cell_type": "markdown",
   "id": "cross-surname",
   "metadata": {},
   "source": [
    "### system"
   ]
  },
  {
   "cell_type": "code",
   "execution_count": 2,
   "id": "increasing-infrastructure",
   "metadata": {},
   "outputs": [
    {
     "name": "stdout",
     "output_type": "stream",
     "text": [
      "Overwriting 01_system.py\n"
     ]
    }
   ],
   "source": [
    "%%writefile 01_system.py\n",
    "exec(open('musicnotation.py').read())\n",
    "\n",
    "size(600,110)\n",
    "p = (0,20)\n",
    "\n",
    "stroke(0)\n",
    "noteSystem(p)\n",
    "\n",
    "translate(110,0)\n",
    "noteSystem(p,y_space=20)\n",
    "\n",
    "translate(110,0)\n",
    "noteSystem(p,sw=3,numlines=7)\n",
    "\n",
    "translate(110,0)\n",
    "stroke(.8)\n",
    "noteSystem(p)\n",
    "\n",
    "translate(110,0)\n",
    "stroke(1,0,0)\n",
    "noteSystem(p)"
   ]
  },
  {
   "cell_type": "code",
   "execution_count": 3,
   "id": "fallen-transfer",
   "metadata": {
    "scrolled": false
   },
   "outputs": [
    {
     "data": {
      "image/png": "[encoded data removed]",
      "text/plain": [
       "<IPython.core.display.Image object>"
      ]
     },
     "execution_count": 3,
     "metadata": {},
     "output_type": "execute_result"
    }
   ],
   "source": [
    "drawShow('01_system')"
   ]
  },
  {
   "cell_type": "markdown",
   "id": "middle-galaxy",
   "metadata": {},
   "source": [
    "### note heads"
   ]
  },
  {
   "cell_type": "code",
   "execution_count": 36,
   "id": "latin-killing",
   "metadata": {},
   "outputs": [
    {
     "name": "stdout",
     "output_type": "stream",
     "text": [
      "Overwriting 02_noteheads.py\n"
     ]
    }
   ],
   "source": [
    "%%writefile 02_noteheads.py\n",
    "exec(open('musicnotation.py').read())\n",
    "\n",
    "size(800,110)\n",
    "p = (0,20)\n",
    "stroke(0)\n",
    "noteSystem(p,200)\n",
    "translate(10,0)\n",
    "for n in range(10):\n",
    "    note(p)\n",
    "    translate(20,5)\n",
    "\n",
    "translate(10,-50)\n",
    "noteSystem(p,200)\n",
    "fill(None)\n",
    "translate(10,0)\n",
    "strokeWidth(2)\n",
    "for n in range(10):\n",
    "    note(p)\n",
    "    translate(20,5)\n",
    "\n",
    "translate(10,-50)\n",
    "noteSystem(p,200)\n",
    "translate(10,0)\n",
    "strokeWidth(1.5)\n",
    "for n in range(10):\n",
    "    noteDiamond(p)\n",
    "    translate(20,5)"
   ]
  },
  {
   "cell_type": "code",
   "execution_count": 37,
   "id": "appreciated-gnome",
   "metadata": {},
   "outputs": [
    {
     "data": {
      "image/png": "[encoded data removed]",
      "text/plain": [
       "<IPython.core.display.Image object>"
      ]
     },
     "execution_count": 37,
     "metadata": {},
     "output_type": "execute_result"
    }
   ],
   "source": [
    "drawShow('02_noteheads')"
   ]
  },
  {
   "cell_type": "markdown",
   "id": "arctic-scale",
   "metadata": {},
   "source": [
    "### clefs"
   ]
  },
  {
   "cell_type": "code",
   "execution_count": 56,
   "id": "honey-terrorist",
   "metadata": {},
   "outputs": [
    {
     "name": "stdout",
     "output_type": "stream",
     "text": [
      "Overwriting 03_clefs.py\n"
     ]
    }
   ],
   "source": [
    "%%writefile 03_clefs.py\n",
    "exec(open('musicnotation.py').read())\n",
    "\n",
    "size(800,110)\n",
    "p = (0,20)\n",
    "stroke(0)\n",
    "noteSystem(p,50)\n",
    "violinClef(p)\n",
    "\n",
    "translate(60,0)\n",
    "noteSystem(p,140)\n",
    "violinClef(p,rnd=1)\n",
    "translate(30,0)\n",
    "violinClef(p,rnd=1)\n",
    "translate(30,0)\n",
    "violinClef(p,rnd=3)\n",
    "translate(30,0)\n",
    "violinClef(p,rnd=3)\n",
    "\n",
    "translate(60,0)\n",
    "noteSystem(p,150)\n",
    "bassClef(p)\n",
    "translate(30,0)\n",
    "bassClef(p,rnd=1)\n",
    "translate(30,0)\n",
    "bassClef(p,rnd=1)\n",
    "translate(30,0)\n",
    "bassClef(p,rnd=3)\n",
    "translate(30,0)\n",
    "bassClef(p,rnd=3)\n"
   ]
  },
  {
   "cell_type": "code",
   "execution_count": 57,
   "id": "hawaiian-constitution",
   "metadata": {},
   "outputs": [
    {
     "data": {
      "image/png": "[encoded data removed]",
      "text/plain": [
       "<IPython.core.display.Image object>"
      ]
     },
     "execution_count": 57,
     "metadata": {},
     "output_type": "execute_result"
    }
   ],
   "source": [
    "drawShow('03_clefs')"
   ]
  },
  {
   "cell_type": "markdown",
   "id": "optical-contribution",
   "metadata": {},
   "source": [
    "### accidentals"
   ]
  },
  {
   "cell_type": "code",
   "execution_count": 117,
   "id": "occupied-register",
   "metadata": {},
   "outputs": [
    {
     "name": "stdout",
     "output_type": "stream",
     "text": [
      "Overwriting 04_accidentals.py\n"
     ]
    }
   ],
   "source": [
    "%%writefile 04_accidentals.py\n",
    "exec(open('musicnotation.py').read())\n",
    "\n",
    "size(800,110)\n",
    "p = (0,20)\n",
    "stroke(0)\n",
    "noteSystem(p,200)\n",
    "\n",
    "note((30,30))\n",
    "accNatural((30,30))\n",
    "translate(40,0)\n",
    "note((30,30))\n",
    "accSharp((30,30))\n",
    "translate(40,0)\n",
    "note((30,30))\n",
    "accFlat((30,30))"
   ]
  },
  {
   "cell_type": "code",
   "execution_count": 118,
   "id": "grand-closure",
   "metadata": {},
   "outputs": [
    {
     "data": {
      "image/png": "[encoded data removed]",
      "text/plain": [
       "<IPython.core.display.Image object>"
      ]
     },
     "execution_count": 118,
     "metadata": {},
     "output_type": "execute_result"
    }
   ],
   "source": [
    "drawShow('04_accidentals')"
   ]
  },
  {
   "cell_type": "code",
   "execution_count": null,
   "id": "baking-nightlife",
   "metadata": {},
   "outputs": [],
   "source": []
  }
 ],
 "metadata": {
  "kernelspec": {
   "display_name": "Python 3",
   "language": "python",
   "name": "python3"
  },
  "language_info": {
   "codemirror_mode": {
    "name": "ipython",
    "version": 3
   },
   "file_extension": ".py",
   "mimetype": "text/x-python",
   "name": "python",
   "nbconvert_exporter": "python",
   "pygments_lexer": "ipython3",
   "version": "3.9.2"
  }
 },
 "nbformat": 4,
 "nbformat_minor": 5
}
