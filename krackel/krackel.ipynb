{
 "cells": [
  {
   "cell_type": "markdown",
   "id": "breeding-welding",
   "metadata": {},
   "source": [
    "# krackellinien"
   ]
  },
  {
   "cell_type": "code",
   "execution_count": 1,
   "id": "technical-jersey",
   "metadata": {},
   "outputs": [],
   "source": [
    "from IPython.display import Image, SVG\n",
    "from os import system\n",
    "from drawbot_skia.drawbot import *\n",
    "\n",
    "def drawShow(name):\n",
    "    call = 'drawbot %s.py %s.png' % (name, name)\n",
    "    system(call)\n",
    "    return Image('%s.png' % name)"
   ]
  },
  {
   "cell_type": "markdown",
   "id": "cross-surname",
   "metadata": {},
   "source": [
    "### *zittLine*"
   ]
  },
  {
   "cell_type": "code",
   "execution_count": 28,
   "id": "increasing-infrastructure",
   "metadata": {},
   "outputs": [
    {
     "name": "stdout",
     "output_type": "stream",
     "text": [
      "Overwriting krackel_01.py\n"
     ]
    }
   ],
   "source": [
    "%%writefile krackel_01.py\n",
    "exec(open('krackel.py').read())\n",
    "\n",
    "size(200,300)\n",
    "p1 = (20,0)\n",
    "p2 = (180,0)\n",
    "stroke(0)\n",
    "strokeWidth(2)\n",
    "\n",
    "translate(0,250)\n",
    "zittLine(p1,p2)\n",
    "\n",
    "translate(0,-70)\n",
    "zittLine(p1,p2,amp=20)\n",
    "\n",
    "translate(0,-70)\n",
    "zittLine(p1,p2,f=2)\n",
    "\n",
    "translate(0,-70)\n",
    "zittLine(p1,p2,f=2,d=1/2)"
   ]
  },
  {
   "cell_type": "code",
   "execution_count": 29,
   "id": "fallen-transfer",
   "metadata": {
    "scrolled": false
   },
   "outputs": [
    {
     "data": {
      "image/png": "[encoded data removed]",
      "text/plain": [
       "<IPython.core.display.Image object>"
      ]
     },
     "execution_count": 29,
     "metadata": {},
     "output_type": "execute_result"
    }
   ],
   "source": [
    "drawShow('krackel_01')"
   ]
  },
  {
   "cell_type": "markdown",
   "id": "nervous-finger",
   "metadata": {},
   "source": [
    "### *zittLineDotted*"
   ]
  },
  {
   "cell_type": "code",
   "execution_count": 40,
   "id": "experienced-showcase",
   "metadata": {},
   "outputs": [
    {
     "name": "stdout",
     "output_type": "stream",
     "text": [
      "Overwriting krackel_02.py\n"
     ]
    }
   ],
   "source": [
    "%%writefile krackel_02.py\n",
    "exec(open('krackel.py').read())\n",
    "\n",
    "size(200,300)\n",
    "p1 = (20,0)\n",
    "p2 = (180,0)\n",
    "stroke(0)\n",
    "strokeWidth(2)\n",
    "\n",
    "translate(0,250)\n",
    "zittLineDotted(p1,p2)\n",
    "\n",
    "translate(0,-70)\n",
    "zittLineDotted(p1,p2,f=2)\n",
    "\n",
    "translate(0,-70)\n",
    "zittLineDotted(p1,p2,f=2,dot=(5,10))\n",
    "\n",
    "translate(0,-70)\n",
    "zittLineDotted(p1,p2,f=2,dot=(2,20))"
   ]
  },
  {
   "cell_type": "code",
   "execution_count": 41,
   "id": "limited-island",
   "metadata": {},
   "outputs": [
    {
     "data": {
      "image/png": "[encoded data removed]",
      "text/plain": [
       "<IPython.core.display.Image object>"
      ]
     },
     "execution_count": 41,
     "metadata": {},
     "output_type": "execute_result"
    }
   ],
   "source": [
    "drawShow('krackel_02')"
   ]
  },
  {
   "cell_type": "code",
   "execution_count": null,
   "id": "detected-basic",
   "metadata": {},
   "outputs": [],
   "source": []
  }
 ],
 "metadata": {
  "kernelspec": {
   "display_name": "Python 3",
   "language": "python",
   "name": "python3"
  },
  "language_info": {
   "codemirror_mode": {
    "name": "ipython",
    "version": 3
   },
   "file_extension": ".py",
   "mimetype": "text/x-python",
   "name": "python",
   "nbconvert_exporter": "python",
   "pygments_lexer": "ipython3",
   "version": "3.9.2"
  }
 },
 "nbformat": 4,
 "nbformat_minor": 5
}
