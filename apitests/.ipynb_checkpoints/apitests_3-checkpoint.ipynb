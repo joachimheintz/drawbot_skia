{
 "cells": [
  {
   "cell_type": "markdown",
   "id": "breeding-welding",
   "metadata": {},
   "source": [
    "# apitests 3: path\n",
    "this is nothing but a transfer of the examples in drawbot_skia to jupyter notebooks"
   ]
  },
  {
   "cell_type": "code",
   "execution_count": 21,
   "id": "technical-jersey",
   "metadata": {},
   "outputs": [],
   "source": [
    "from IPython.display import Image, SVG\n",
    "from os import system\n",
    "from drawbot_skia.drawbot import *\n",
    "\n",
    "def drawShow(name):\n",
    "    call = 'drawbot %s.py %s.png' % (name, name)\n",
    "    system(call)\n",
    "    return Image('%s.png' % name)"
   ]
  },
  {
   "cell_type": "markdown",
   "id": "cross-surname",
   "metadata": {},
   "source": [
    "## path"
   ]
  },
  {
   "cell_type": "code",
   "execution_count": 22,
   "id": "increasing-infrastructure",
   "metadata": {},
   "outputs": [
    {
     "name": "stdout",
     "output_type": "stream",
     "text": [
      "Writing path.py\n"
     ]
    }
   ],
   "source": [
    "%%writefile path.py\n",
    "size(200, 200)\n",
    "\n",
    "bez = BezierPath()\n",
    "bez.moveTo((20, 20))\n",
    "bez.lineTo((20, 100))\n",
    "bez.lineTo((100, 100))\n",
    "bez.lineTo((100, 180))\n",
    "bez.curveTo((150, 180), (180, 150), (180, 100))\n",
    "bez.lineTo((180, 50))\n",
    "bez.qCurveTo((180, 20), (150, 20))\n",
    "\n",
    "fill(1, 0, 0)\n",
    "stroke(0)\n",
    "strokeWidth(10)\n",
    "drawPath(bez)\n",
    "\n",
    "bez.closePath()\n",
    "\n",
    "fill(None)\n",
    "stroke(1)\n",
    "translate(40, 15)\n",
    "scale(0.7)\n",
    "lineCap(\"round\")\n",
    "lineJoin(\"round\")\n",
    "\n",
    "drawPath(bez)"
   ]
  },
  {
   "cell_type": "code",
   "execution_count": 23,
   "id": "fallen-transfer",
   "metadata": {
    "scrolled": false
   },
   "outputs": [
    {
     "data": {
      "image/png": "[encoded data removed]",
      "text/plain": [
       "<IPython.core.display.Image object>"
      ]
     },
     "execution_count": 23,
     "metadata": {},
     "output_type": "execute_result"
    }
   ],
   "source": [
    "drawShow('path')"
   ]
  },
  {
   "cell_type": "markdown",
   "id": "nervous-finger",
   "metadata": {},
   "source": [
    "## path2"
   ]
  },
  {
   "cell_type": "code",
   "execution_count": 24,
   "id": "experienced-showcase",
   "metadata": {},
   "outputs": [
    {
     "name": "stdout",
     "output_type": "stream",
     "text": [
      "Writing path2.py\n"
     ]
    }
   ],
   "source": [
    "%%writefile path2.py\n",
    "size(200, 200)\n",
    "\n",
    "bez = BezierPath()\n",
    "bez.rect(10, 10, 30, 40)\n",
    "bez.oval(100, 10, 30, 40)\n",
    "bez.polygon((10, 100), (10, 180), (40, 180), (40, 110))\n",
    "bez.polygon((110, 100), (110, 180), (140, 180), (140, 110), close=False)\n",
    "bez.line((80, 100), (75, 180))\n",
    "\n",
    "fill(1, 0.5, 0)\n",
    "stroke(0)\n",
    "strokeWidth(2)\n",
    "\n",
    "drawPath(bez)"
   ]
  },
  {
   "cell_type": "code",
   "execution_count": 25,
   "id": "limited-island",
   "metadata": {},
   "outputs": [
    {
     "data": {
      "image/png": "[encoded data removed]",
      "text/plain": [
       "<IPython.core.display.Image object>"
      ]
     },
     "execution_count": 25,
     "metadata": {},
     "output_type": "execute_result"
    }
   ],
   "source": [
    "drawShow('path2')"
   ]
  },
  {
   "cell_type": "markdown",
   "id": "extreme-citizenship",
   "metadata": {},
   "source": [
    "## pathAppend"
   ]
  },
  {
   "cell_type": "code",
   "execution_count": 26,
   "id": "honey-blame",
   "metadata": {},
   "outputs": [
    {
     "name": "stdout",
     "output_type": "stream",
     "text": [
      "Writing pathAppend.py\n"
     ]
    }
   ],
   "source": [
    "%%writefile pathAppend.py\n",
    "size(200, 200)\n",
    "\n",
    "path1 = BezierPath()\n",
    "path1.rect(25, 25, 100, 100)\n",
    "path2 = BezierPath()\n",
    "path2.rect(75, 75, 100, 100)\n",
    "\n",
    "path1.appendPath(path2)\n",
    "drawPath(path1)"
   ]
  },
  {
   "cell_type": "code",
   "execution_count": 27,
   "id": "compatible-airplane",
   "metadata": {},
   "outputs": [
    {
     "data": {
      "image/png": "[encoded data removed]",
      "text/plain": [
       "<IPython.core.display.Image object>"
      ]
     },
     "execution_count": 27,
     "metadata": {},
     "output_type": "execute_result"
    }
   ],
   "source": [
    "drawShow('pathAppend')"
   ]
  },
  {
   "cell_type": "markdown",
   "id": "responsible-welsh",
   "metadata": {},
   "source": [
    "## pathDrawToPen"
   ]
  },
  {
   "cell_type": "code",
   "execution_count": 28,
   "id": "round-tissue",
   "metadata": {},
   "outputs": [
    {
     "name": "stdout",
     "output_type": "stream",
     "text": [
      "Writing drawToPen.py\n"
     ]
    }
   ],
   "source": [
    "%%writefile drawToPen.py\n",
    "from fontTools.pens.recordingPen import RecordingPen, RecordingPointPen\n",
    "\n",
    "size(200, 200)\n",
    "translate(10, 10)\n",
    "scale(0.39)\n",
    "\n",
    "path = BezierPath()\n",
    "path.moveTo((100, 100))\n",
    "path.curveTo((200, 100), (300, 200), (300, 300))\n",
    "path.lineTo((100, 300))\n",
    "path.closePath()\n",
    "path.oval(0, 0, 200, 90)\n",
    "path.moveTo((250, 250))\n",
    "path.arc((250, 250), 200, 0, 120, False)\n",
    "# path.skew() will trigger bad results\n",
    "# https://github.com/justvanrossum/drawbot-skia/issues/7\n",
    "# path.skew(10, 20)\n",
    "\n",
    "fill(None)\n",
    "stroke(0)\n",
    "strokeWidth(2)\n",
    "drawPath(path)\n",
    "\n",
    "pen = RecordingPen()\n",
    "path.drawToPen(pen)\n",
    "\n",
    "path = BezierPath()\n",
    "pen.replay(path)\n",
    "\n",
    "stroke(None)\n",
    "fill(0, 0.3)\n",
    "drawPath(path)\n",
    "\n",
    "ppen = RecordingPointPen()\n",
    "path.drawToPointPen(ppen)"
   ]
  },
  {
   "cell_type": "code",
   "execution_count": 29,
   "id": "disturbed-mineral",
   "metadata": {},
   "outputs": [
    {
     "data": {
      "image/png": "[encoded data removed]",
      "text/plain": [
       "<IPython.core.display.Image object>"
      ]
     },
     "execution_count": 29,
     "metadata": {},
     "output_type": "execute_result"
    }
   ],
   "source": [
    "drawShow('drawToPen')"
   ]
  },
  {
   "cell_type": "markdown",
   "id": "religious-peter",
   "metadata": {},
   "source": [
    "## pathops and pathopsOperator\n",
    "both return: \"ModuleNotFoundError: No module named 'pathops'\""
   ]
  },
  {
   "cell_type": "code",
   "execution_count": 30,
   "id": "empirical-stockholm",
   "metadata": {},
   "outputs": [
    {
     "name": "stdout",
     "output_type": "stream",
     "text": [
      "Writing pathops.py\n"
     ]
    }
   ],
   "source": [
    "%%writefile pathops.py\n",
    "\n",
    "path1 = BezierPath()\n",
    "path1.rect(25, 25, 100, 100)\n",
    "path2 = BezierPath()\n",
    "path2.oval(75, 75, 100, 100)\n",
    "\n",
    "operations = [\n",
    "    (path1, path2, \"union\"),\n",
    "    (path1, path2, \"intersection\"),\n",
    "    (path1, path2, \"difference\"),\n",
    "    (path2, path1, \"difference\"),\n",
    "    (path1, path2, \"xor\"),\n",
    "]\n",
    "\n",
    "size(200, 200 * (len(operations) + 1))\n",
    "fill(1)\n",
    "rect(0, 0, width(), height())\n",
    "\n",
    "stroke(0)\n",
    "strokeWidth(4)\n",
    "fill(0.9)\n",
    "\n",
    "for path1, path2, op in operations:\n",
    "    path = getattr(path1, op)(path2)\n",
    "    drawPath(path)\n",
    "    translate(0, 200)\n",
    "\n",
    "path = path1.copy()\n",
    "path.appendPath(path2)\n",
    "path.removeOverlap()\n",
    "drawPath(path)"
   ]
  },
  {
   "cell_type": "code",
   "execution_count": null,
   "id": "packed-tower",
   "metadata": {},
   "outputs": [],
   "source": [
    "drawShow('pathops')"
   ]
  },
  {
   "cell_type": "markdown",
   "id": "effective-ready",
   "metadata": {},
   "source": [
    "## pathPointPen"
   ]
  },
  {
   "cell_type": "code",
   "execution_count": 32,
   "id": "organic-judges",
   "metadata": {},
   "outputs": [
    {
     "name": "stdout",
     "output_type": "stream",
     "text": [
      "Writing pathPointPen.py\n"
     ]
    }
   ],
   "source": [
    "%%writefile pathPointPen.py\n",
    "size(200, 200)\n",
    "\n",
    "bez = BezierPath()\n",
    "bez.beginPath()\n",
    "bez.addPoint((20, 20), \"move\")\n",
    "bez.addPoint((20, 100), \"line\")\n",
    "bez.addPoint((100, 100), \"line\")\n",
    "bez.addPoint((100, 180), \"line\")\n",
    "bez.addPoint((150, 180))\n",
    "bez.addPoint((180, 150))\n",
    "bez.addPoint((180, 100), \"curve\")\n",
    "bez.addPoint((180, 50), \"line\")\n",
    "bez.addPoint((180, 20))\n",
    "bez.addPoint((150, 20), \"qcurve\")\n",
    "bez.endPath()\n",
    "\n",
    "fill(1, 0, 0)\n",
    "stroke(0)\n",
    "strokeWidth(10)\n",
    "drawPath(bez)\n",
    "\n",
    "fill(None)\n",
    "stroke(1)\n",
    "translate(40, 15)\n",
    "scale(0.7)\n",
    "lineCap(\"round\")\n",
    "lineJoin(\"round\")\n",
    "\n",
    "drawPath(bez)"
   ]
  },
  {
   "cell_type": "code",
   "execution_count": 33,
   "id": "willing-anniversary",
   "metadata": {},
   "outputs": [
    {
     "data": {
      "image/png": "[encoded data removed]",
      "text/plain": [
       "<IPython.core.display.Image object>"
      ]
     },
     "execution_count": 33,
     "metadata": {},
     "output_type": "execute_result"
    }
   ],
   "source": [
    "drawShow('pathPointPen')"
   ]
  },
  {
   "cell_type": "markdown",
   "id": "illegal-commerce",
   "metadata": {},
   "source": [
    "## pathReverse"
   ]
  },
  {
   "cell_type": "code",
   "execution_count": 40,
   "id": "consistent-stuart",
   "metadata": {},
   "outputs": [
    {
     "name": "stdout",
     "output_type": "stream",
     "text": [
      "Overwriting pathReverse.py\n"
     ]
    }
   ],
   "source": [
    "%%writefile pathReverse.py\n",
    "size(200, 200)\n",
    "\n",
    "path = BezierPath()\n",
    "path.rect(50, 50, 100, 100)\n",
    "path.reverse()\n",
    "path.rect(75, 75, 50, 50)\n",
    "drawPath(path)"
   ]
  },
  {
   "cell_type": "code",
   "execution_count": 41,
   "id": "proud-charge",
   "metadata": {},
   "outputs": [
    {
     "data": {
      "image/png": "[encoded data removed]",
      "text/plain": [
       "<IPython.core.display.Image object>"
      ]
     },
     "execution_count": 41,
     "metadata": {},
     "output_type": "execute_result"
    }
   ],
   "source": [
    "drawShow('pathReverse')"
   ]
  },
  {
   "cell_type": "code",
   "execution_count": null,
   "id": "hollow-definition",
   "metadata": {},
   "outputs": [],
   "source": []
  }
 ],
 "metadata": {
  "kernelspec": {
   "display_name": "Python 3",
   "language": "python",
   "name": "python3"
  },
  "language_info": {
   "codemirror_mode": {
    "name": "ipython",
    "version": 3
   },
   "file_extension": ".py",
   "mimetype": "text/x-python",
   "name": "python",
   "nbconvert_exporter": "python",
   "pygments_lexer": "ipython3",
   "version": "3.9.2"
  }
 },
 "nbformat": 4,
 "nbformat_minor": 5
}
