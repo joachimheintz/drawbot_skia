{
 "cells": [
  {
   "cell_type": "markdown",
   "id": "breeding-welding",
   "metadata": {},
   "source": [
    "# Colors (4)\n",
    "## CMYK Stroke -> NOT IMPLEMENTED YET"
   ]
  },
  {
   "cell_type": "code",
   "execution_count": 9,
   "id": "technical-jersey",
   "metadata": {},
   "outputs": [],
   "source": [
    "from IPython.display import Image, SVG\n",
    "from os import system\n",
    "from drawbot_skia.drawbot import *\n",
    "\n",
    "def drawShow(name):\n",
    "    call = 'drawbot %s.py %s.png' % (name, name)\n",
    "    system(call)\n",
    "    return Image('%s.png' % name)"
   ]
  },
  {
   "cell_type": "code",
   "execution_count": 10,
   "id": "greatest-hometown",
   "metadata": {},
   "outputs": [
    {
     "ename": "NameError",
     "evalue": "name 'linkURL' is not defined",
     "output_type": "error",
     "traceback": [
      "\u001b[0;31m---------------------------------------------------------------------------\u001b[0m",
      "\u001b[0;31mNameError\u001b[0m                                 Traceback (most recent call last)",
      "\u001b[0;32m<ipython-input-10-b4fbb45463a9>\u001b[0m in \u001b[0;36m<module>\u001b[0;34m\u001b[0m\n\u001b[0;32m----> 1\u001b[0;31m \u001b[0mhelp\u001b[0m\u001b[0;34m(\u001b[0m\u001b[0mlinkURL\u001b[0m\u001b[0;34m)\u001b[0m\u001b[0;34m\u001b[0m\u001b[0;34m\u001b[0m\u001b[0m\n\u001b[0m",
      "\u001b[0;31mNameError\u001b[0m: name 'linkURL' is not defined"
     ]
    }
   ],
   "source": [
    "help(linkURL)"
   ]
  },
  {
   "cell_type": "code",
   "execution_count": null,
   "id": "referenced-compatibility",
   "metadata": {},
   "outputs": [],
   "source": []
  }
 ],
 "metadata": {
  "kernelspec": {
   "display_name": "Python 3",
   "language": "python",
   "name": "python3"
  },
  "language_info": {
   "codemirror_mode": {
    "name": "ipython",
    "version": 3
   },
   "file_extension": ".py",
   "mimetype": "text/x-python",
   "name": "python",
   "nbconvert_exporter": "python",
   "pygments_lexer": "ipython3",
   "version": "3.9.2"
  }
 },
 "nbformat": 4,
 "nbformat_minor": 5
}
