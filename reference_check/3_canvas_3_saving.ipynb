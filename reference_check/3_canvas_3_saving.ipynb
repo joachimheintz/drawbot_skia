{
 "cells": [
  {
   "cell_type": "markdown",
   "id": "breeding-welding",
   "metadata": {},
   "source": [
    "# Canvas (3)\n",
    "## Saving"
   ]
  },
  {
   "cell_type": "code",
   "execution_count": 1,
   "id": "technical-jersey",
   "metadata": {},
   "outputs": [],
   "source": [
    "from IPython.display import Image, SVG, IFrame\n",
    "from os import system\n",
    "from drawbot_skia.drawbot import *\n",
    "\n",
    "def drawShow(name):\n",
    "    call = 'drawbot %s.py %s.png' % (name, name)\n",
    "    system(call)\n",
    "    return Image('%s.png' % name)"
   ]
  },
  {
   "cell_type": "markdown",
   "id": "floppy-delta",
   "metadata": {},
   "source": [
    "###  saveImage(paths, **options)\n",
    "\n",
    "Save or export the canvas to a specified format. The path argument is a single destination path to save the current drawing actions.\n",
    "\n",
    "The file extension is important because it will determine the format in which the image will be exported.\n",
    "\n",
    "All supported file extensions: pdf, png, jpg, jpeg, tif, tiff, svg, gif, bmp, mp4, icns, *. (* will print out all actions.)\n",
    "\n",
    "When exporting an animation or movie, each page represents a frame and the framerate is set by calling frameDuration() after each newPage()."
   ]
  },
  {
   "cell_type": "code",
   "execution_count": 2,
   "id": "separate-miniature",
   "metadata": {},
   "outputs": [
    {
     "name": "stdout",
     "output_type": "stream",
     "text": [
      "Writing saveImage.py\n"
     ]
    }
   ],
   "source": [
    "%%writefile 'saveImage.py'\n",
    "# set the canvas size\n",
    "size(150, 100)\n",
    "\n",
    "# draw a background\n",
    "rect(10, 10, width()-20, height()-20)\n",
    "\n",
    "# set a fill\n",
    "fill(1)\n",
    "# draw some text\n",
    "text(\"Hello World!\", (20, 40))\n",
    "# save it as a png and pdf in the current directory\n",
    "saveImage(\"./firstImage.png\")\n",
    "saveImage(\"./firstImage.pdf\")"
   ]
  },
  {
   "cell_type": "code",
   "execution_count": 3,
   "id": "level-friend",
   "metadata": {},
   "outputs": [
    {
     "data": {
      "image/png": "[encoded data removed]",
      "text/plain": [
       "<IPython.core.display.Image object>"
      ]
     },
     "execution_count": 3,
     "metadata": {},
     "output_type": "execute_result"
    }
   ],
   "source": [
    "drawShow('saveImage')\n",
    "# in addition, find 'firstImage' as pdf and png"
   ]
  },
  {
   "cell_type": "markdown",
   "id": "liberal-swiss",
   "metadata": {},
   "source": [
    "**options** can be set by adding **keyword arguments**. Which options are recognized depends on the output format.\n",
    "\n",
    "pdf options:\n",
    "\n",
    "- multipage: If False, only the last page in the document will be saved into the output PDF. This value is ignored if it is None (default).\n",
    "\n",
    "png options:\n",
    "\n",
    "- imageResolution: The resolution of the output image in PPI. Default is 72.\n",
    "- antiAliasing: Indicate if a the image should be rendedered with anti-aliasing. Default is True.\n",
    "- multipage: Output a numbered image for each page or frame in the document.\n",
    "- imagePNGGamma: The gamma value for the image. It is a floating-point number between 0.0 and 1.0, with 0.0 being black and 1.0 being the maximum color.\n",
    "- imagePNGInterlaced: Boolean value that indicates whether the image should be interlaced.\n",
    "- imageColorSyncProfileData: A bytes or NSData object containing the ColorSync profile data.\n",
    "\n",
    "jpg, jpeg options:\n",
    "\n",
    "- imageResolution: The resolution of the output image in PPI. Default is 72.\n",
    "- antiAliasing: Indicate if a the image should be rendedered with anti-aliasing. Default is True.\n",
    "- multipage: Output a numbered image for each page or frame in the document.\n",
    "- imageJPEGCompressionFactor: A float between 0.0 and 1.0, with 1.0 resulting in no compression and 0.0 resulting in the maximum compression possible\n",
    "- imageJPEGProgressive: Boolean that indicates whether the image should use progressive encoding.\n",
    "- imageFallbackBackgroundColor: The background color to use when writing to an image format (such as JPEG) that doesn’t support alpha. The color’s alpha value is ignored. The default background color, when this property is not specified, is white. The value of the property should be an NSColor object or a DrawBot RGB color tuple.\n",
    "- imageColorSyncProfileData: A bytes or NSData object containing the ColorSync profile data.\n",
    "\n",
    "tif, tiff options:\n",
    "\n",
    "- imageResolution: The resolution of the output image in PPI. Default is 72.\n",
    "- antiAliasing: Indicate if a the image should be rendedered with anti-aliasing. Default is True.\n",
    "- multipage: Output a numbered image for each page or frame in the document.\n",
    "- imageTIFFCompressionMethod: None, or ‘lzw’ or ‘packbits’, or an NSTIFFCompression constant\n",
    "- imageColorSyncProfileData: A bytes or NSData object containing the ColorSync profile data.\n",
    "\n",
    "svg options:\n",
    "\n",
    "- multipage: Output a numbered svg file for each page or frame in the document.\n",
    "\n",
    "gif options:\n",
    "\n",
    "- imageResolution: The resolution of the output image in PPI. Default is 72.\n",
    "- antiAliasing: Indicate if a the image should be rendedered with anti-aliasing. Default is True.\n",
    "- multipage: Output a numbered image for each page or frame in the document.\n",
    "- imageGIFDitherTransparency: Boolean that indicates whether the image is dithered\n",
    "- imageGIFRGBColorTable: A bytes or NSData object containing the RGB color table.\n",
    "- imageColorSyncProfileData: A bytes or NSData object containing the ColorSync profile data.\n",
    "- imageGIFLoop: Boolean that indicates whether the animated gif should loop\n",
    "\n",
    "bmp options:\n",
    "\n",
    "- imageResolution: The resolution of the output image in PPI. Default is 72.\n",
    "- antiAliasing: Indicate if a the image should be rendedered with anti-aliasing. Default is True.\n",
    "- multipage: Output a numbered image for each page or frame in the document.\n",
    "\n",
    "mp4 options:\n",
    "\n",
    "- ffmpegCodec: The codec to be used by ffmpeg. By default it is ‘libx264’ (for H.264). The ‘mpeg4’ codec gives better results when importing the movie into After Effects, at the expense of a larger file size.\n",
    "- imageResolution: The resolution of the output image in PPI. Default is 72.\n",
    "- antiAliasing: Indicate if a the image should be rendedered with anti-aliasing. Default is True.\n",
    "- imagePNGGamma: The gamma value for the image. It is a floating-point number between 0.0 and 1.0, with 0.0 being black and 1.0 being the maximum color.\n",
    "- imagePNGInterlaced: Boolean value that indicates whether the image should be interlaced.\n",
    "- imageColorSyncProfileData: A bytes or NSData object containing the ColorSync profile data.\n",
    "\n",
    "icns options:\n",
    "\n",
    "- imageResolution: The resolution of the output image in PPI. Default is 72.\n",
    "- antiAliasing: Indicate if a the image should be rendedered with anti-aliasing. Default is True.\n",
    "- multipage: Output a numbered image for each page or frame in the document.\n"
   ]
  },
  {
   "cell_type": "code",
   "execution_count": 4,
   "id": "forbidden-stretch",
   "metadata": {},
   "outputs": [],
   "source": [
    "# same example but we just change the image resolution\n",
    "size(150, 100)\n",
    "rect(10, 10, width()-20, height()-20)\n",
    "fill(1)\n",
    "text(\"Hello World!\", (20, 40))\n",
    "# save it with an option that controls the resolution (300 PPI)\n",
    "saveImage(\"./firstImage300.png\", imageResolution=300)"
   ]
  },
  {
   "cell_type": "markdown",
   "id": "moving-export",
   "metadata": {},
   "source": [
    "**printImage()** and **pdfImage()** are not implemented in drawbot-skia"
   ]
  },
  {
   "cell_type": "code",
   "execution_count": null,
   "id": "nervous-oxford",
   "metadata": {},
   "outputs": [],
   "source": []
  }
 ],
 "metadata": {
  "kernelspec": {
   "display_name": "Python 3",
   "language": "python",
   "name": "python3"
  },
  "language_info": {
   "codemirror_mode": {
    "name": "ipython",
    "version": 3
   },
   "file_extension": ".py",
   "mimetype": "text/x-python",
   "name": "python",
   "nbconvert_exporter": "python",
   "pygments_lexer": "ipython3",
   "version": "3.9.2"
  }
 },
 "nbformat": 4,
 "nbformat_minor": 5
}
