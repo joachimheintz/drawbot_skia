{
 "cells": [
  {
   "cell_type": "markdown",
   "id": "breeding-welding",
   "metadata": {},
   "source": [
    "# Canvas (1)\n",
    "## Pages\n",
    "The origin of the drawing board is at the bottom left."
   ]
  },
  {
   "cell_type": "code",
   "execution_count": 62,
   "id": "technical-jersey",
   "metadata": {},
   "outputs": [],
   "source": [
    "from IPython.display import Image, SVG, IFrame\n",
    "from os import system\n",
    "from drawbot_skia.drawbot import *\n",
    "\n",
    "def drawShow(name):\n",
    "    call = 'drawbot %s.py %s.png' % (name, name)\n",
    "    system(call)\n",
    "    return Image('%s.png' % name)"
   ]
  },
  {
   "cell_type": "markdown",
   "id": "macro-lounge",
   "metadata": {},
   "source": [
    "###   newPage(width=None, height=None)\n",
    "Create a new canvas to draw in. This will act like a page in a pdf or a frame in a mov.\n",
    "\n",
    "Optionally a width and height argument can be provided to set the size. If not provided the default size will be used.\n",
    "\n",
    "Alternatively size(‘A4’) with a supported papersizes or size(‘screen’) setting the current screen size as size, can be used.\n",
    "\n",
    "All supported papersizes: 10x14, 10x14Landscape, A0, A0Landscape, A1, A1Landscape, A2, A2Landscape, A3, A3Landscape, A4, A4Landscape, A4Small, A4SmallLandscape, A5, A5Landscape, B4, B4Landscape, B5, B5Landscape, Executive, ExecutiveLandscape, Folio, FolioLandscape, Ledger, LedgerLandscape, Legal, LegalLandscape, Letter, LetterLandscape, LetterSmall, LetterSmallLandscape, Quarto, QuartoLandscape, Statement, StatementLandscape, Tabloid, TabloidLandscape."
   ]
  },
  {
   "cell_type": "code",
   "execution_count": 3,
   "id": "separate-miniature",
   "metadata": {},
   "outputs": [
    {
     "name": "stdout",
     "output_type": "stream",
     "text": [
      "Writing newPage.py\n"
     ]
    }
   ],
   "source": [
    "%%writefile 'newPage.py'\n",
    "# loop over a range of 100\n",
    "for i in range(100):\n",
    "    # for each loop create a new path\n",
    "    newPage(500, 500)\n",
    "    # set a random fill color\n",
    "    fill(random(), random(), random())\n",
    "    # draw a rect with the size of the page\n",
    "    rect(0, 0, width(), height())"
   ]
  },
  {
   "cell_type": "markdown",
   "id": "incredible-import",
   "metadata": {},
   "source": [
    "The call produces 100 png images ('newPage_0.png' etc), but without overwriting.  \n",
    "Not sure if this is different on Linux than on OSX."
   ]
  },
  {
   "cell_type": "code",
   "execution_count": 5,
   "id": "level-friend",
   "metadata": {},
   "outputs": [],
   "source": [
    "#drawShow('newPage')"
   ]
  },
  {
   "cell_type": "markdown",
   "id": "hungry-ceiling",
   "metadata": {},
   "source": [
    "###   newDrawing()\n",
    "\n",
    "Reset the drawing stack to the clean and empty stack."
   ]
  },
  {
   "cell_type": "code",
   "execution_count": 57,
   "id": "going-bandwidth",
   "metadata": {},
   "outputs": [
    {
     "name": "stdout",
     "output_type": "stream",
     "text": [
      "Overwriting newDrawing.py\n"
     ]
    }
   ],
   "source": [
    "%%writefile 'newDrawing.py'\n",
    "size(300,250)\n",
    "# draw a rectangle\n",
    "rect(10, 10, width()-20, height()-20)\n",
    "# save it as a pdf\n",
    "saveImage(\"aRect.pdf\")\n",
    "\n",
    "# reset the drawing stack to a clear and empty stack\n",
    "newDrawing()\n",
    "size(250,300)\n",
    "# draw an oval\n",
    "oval(10, 10, width()-20, height()-20)\n",
    "# save it as a pdf\n",
    "saveImage(\"anOval.pdf\")"
   ]
  },
  {
   "cell_type": "code",
   "execution_count": 64,
   "id": "conceptual-producer",
   "metadata": {},
   "outputs": [
    {
     "data": {
      "text/html": [
       "\n",
       "        <iframe\n",
       "            width=\"300\"\n",
       "            height=\"250\"\n",
       "            src=\"aRect.pdf\"\n",
       "            frameborder=\"0\"\n",
       "            allowfullscreen\n",
       "        ></iframe>\n",
       "        "
      ],
      "text/plain": [
       "<IPython.lib.display.IFrame at 0x7f93bddfcf10>"
      ]
     },
     "execution_count": 64,
     "metadata": {},
     "output_type": "execute_result"
    }
   ],
   "source": [
    "system('drawbot newDrawing.py')\n",
    "IFrame('aRect.pdf',width=300,height=250)"
   ]
  },
  {
   "cell_type": "code",
   "execution_count": 65,
   "id": "obvious-breakdown",
   "metadata": {},
   "outputs": [
    {
     "data": {
      "text/html": [
       "\n",
       "        <iframe\n",
       "            width=\"250\"\n",
       "            height=\"300\"\n",
       "            src=\"anOval.pdf\"\n",
       "            frameborder=\"0\"\n",
       "            allowfullscreen\n",
       "        ></iframe>\n",
       "        "
      ],
      "text/plain": [
       "<IPython.lib.display.IFrame at 0x7f93bde616a0>"
      ]
     },
     "execution_count": 65,
     "metadata": {},
     "output_type": "execute_result"
    }
   ],
   "source": [
    "IFrame(\"anOval.pdf\", width=250, height=300)"
   ]
  },
  {
   "cell_type": "markdown",
   "id": "short-launch",
   "metadata": {},
   "source": [
    "###  endDrawing()\n",
    "\n",
    "Explicitly tell drawBot the drawing is done. This is advised when using drawBot as a standalone module."
   ]
  },
  {
   "cell_type": "markdown",
   "id": "silent-mayor",
   "metadata": {},
   "source": [
    "###   size(width, height=None)\n",
    "\n",
    "Set the width and height of the canvas. Without calling size() the default drawing board is 1000 by 1000 points.\n",
    "\n",
    "Alternatively size(‘A4’) with a supported papersizes or size(‘screen’) setting the current screen size as size, can be used.\n",
    "\n",
    "Afterwards the functions width() and height() can be used for calculations.\n",
    "\n",
    "You have to use size() before any drawing-related code, and you can’t use size() in a multi-page document. Use newPage(w, h) to set the correct dimensions for each page."
   ]
  },
  {
   "cell_type": "code",
   "execution_count": 66,
   "id": "tribal-inside",
   "metadata": {},
   "outputs": [
    {
     "name": "stdout",
     "output_type": "stream",
     "text": [
      "Writing size.py\n"
     ]
    }
   ],
   "source": [
    "%%writefile 'size.py'\n",
    "# set a canvas size\n",
    "size(200, 200)\n",
    "# print out the size of the page (see terminal)\n",
    "print((width(), height()))\n",
    "\n",
    "# set a color\n",
    "fill(1, 0, 0)\n",
    "# use those variables to set a background color\n",
    "rect(0, 0, width(), height())"
   ]
  },
  {
   "cell_type": "code",
   "execution_count": 67,
   "id": "nearby-cowboy",
   "metadata": {},
   "outputs": [
    {
     "data": {
      "image/png": "[encoded data removed]",
      "text/plain": [
       "<IPython.core.display.Image object>"
      ]
     },
     "execution_count": 67,
     "metadata": {},
     "output_type": "execute_result"
    }
   ],
   "source": [
    "drawShow('size')"
   ]
  },
  {
   "cell_type": "markdown",
   "id": "reduced-jonathan",
   "metadata": {},
   "source": [
    "### sizes(paperSize=None) -> NOT IMPLEMENTED YET\n",
    "\n",
    "Returns the width and height of a specified canvas size. If no canvas size is given it will return the dictionary containing all possible page sizes."
   ]
  },
  {
   "cell_type": "markdown",
   "id": "directed-hindu",
   "metadata": {},
   "source": [
    "### pageCount() -> NOT IMPLEMENTED\n",
    "Returns the current page count.\n",
    "\n",
    "### pages() -> NOT IMPLEMENTED\n",
    "Return all pages."
   ]
  },
  {
   "cell_type": "markdown",
   "id": "communist-miracle",
   "metadata": {},
   "source": [
    "### frameDuration(seconds)\n",
    "When exporting to mov or gif each frame can have duration set in seconds."
   ]
  },
  {
   "cell_type": "code",
   "execution_count": 85,
   "id": "extreme-hierarchy",
   "metadata": {},
   "outputs": [
    {
     "name": "stdout",
     "output_type": "stream",
     "text": [
      "Overwriting frameDuration.py\n"
     ]
    }
   ],
   "source": [
    "%%writefile 'frameDuration.py'\n",
    "\n",
    "# setting some variables\n",
    "# size of the pages / frames\n",
    "w, h = 200, 200\n",
    "# frame per seconds\n",
    "fps = 30\n",
    "# duration of the movie\n",
    "seconds = 3\n",
    "# calculate the lenght of a single frame\n",
    "duration = 1 / fps\n",
    "# calculate the amount of frames needed\n",
    "totalFrames = seconds * fps\n",
    "\n",
    "# title page\n",
    "newPage(w, h)\n",
    "# set frame duration to 1 second\n",
    "frameDuration(1)\n",
    "# pick a font and font size\n",
    "font(\"Helvetica\", 40)\n",
    "# draw the title text in a box\n",
    "#textBox(\"Rotated square\", (0, 0, w, h * .8), align=\"center\")\n",
    "\n",
    "# loop over the amount of frames needed\n",
    "for i in range(totalFrames):\n",
    "    # create a new page\n",
    "    newPage(w, h)\n",
    "    # set the frame duration\n",
    "    frameDuration(duration)\n",
    "    # set a fill color\n",
    "    fill(1, 0, 0)\n",
    "    # translate to the center of the page\n",
    "    translate(w / 2, h / 2)\n",
    "    # rotate around the center\n",
    "    rotate(i*10)\n",
    "    # draw the rect\n",
    "    rect(-50, -50, 50, 50)\n",
    "\n",
    "# save the image as a mov on the desktop\n",
    "saveImage('frameDuration.gif')"
   ]
  },
  {
   "cell_type": "markdown",
   "id": "serious-sample",
   "metadata": {},
   "source": [
    "### BUT EXPORT TO GIF OR MOV RETURNS ERROR: \"UNSOPPORTED FILE TYPE\""
   ]
  },
  {
   "cell_type": "code",
   "execution_count": 86,
   "id": "incredible-still",
   "metadata": {},
   "outputs": [
    {
     "data": {
      "text/plain": [
       "256"
      ]
     },
     "execution_count": 86,
     "metadata": {},
     "output_type": "execute_result"
    }
   ],
   "source": [
    "system('drawbot frameDuration.py')"
   ]
  },
  {
   "cell_type": "markdown",
   "id": "focal-atlantic",
   "metadata": {},
   "source": [
    "### linkURL, linkRect, linkDestination -> NOT IMPLEMENTED"
   ]
  },
  {
   "cell_type": "code",
   "execution_count": null,
   "id": "basic-taste",
   "metadata": {},
   "outputs": [],
   "source": []
  }
 ],
 "metadata": {
  "kernelspec": {
   "display_name": "Python 3",
   "language": "python",
   "name": "python3"
  },
  "language_info": {
   "codemirror_mode": {
    "name": "ipython",
    "version": 3
   },
   "file_extension": ".py",
   "mimetype": "text/x-python",
   "name": "python",
   "nbconvert_exporter": "python",
   "pygments_lexer": "ipython3",
   "version": "3.9.2"
  }
 },
 "nbformat": 4,
 "nbformat_minor": 5
}
