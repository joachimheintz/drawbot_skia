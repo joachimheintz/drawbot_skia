{
 "cells": [
  {
   "cell_type": "markdown",
   "id": "breeding-welding",
   "metadata": {},
   "source": [
    "# Working with Drawbot_skia in Jupyter Notebook"
   ]
  },
  {
   "cell_type": "markdown",
   "id": "perfect-richardson",
   "metadata": {},
   "source": [
    "## 1. Import some modules and define a function"
   ]
  },
  {
   "cell_type": "code",
   "execution_count": 1,
   "id": "technical-jersey",
   "metadata": {},
   "outputs": [],
   "source": [
    "from IPython.display import Image, SVG\n",
    "from os import system\n",
    "from drawbot_skia.drawbot import *\n",
    "\n",
    "def drawShow(name):\n",
    "    call = 'drawbot %s.py %s.png' % (name, name)\n",
    "    system(call)\n",
    "    return Image('%s.png' % name)"
   ]
  },
  {
   "cell_type": "markdown",
   "id": "checked-paste",
   "metadata": {},
   "source": [
    "## 2. Write any drawbot code and save to .py file"
   ]
  },
  {
   "cell_type": "code",
   "execution_count": 2,
   "id": "increasing-infrastructure",
   "metadata": {},
   "outputs": [
    {
     "name": "stdout",
     "output_type": "stream",
     "text": [
      "Writing strokewidth.py\n"
     ]
    }
   ],
   "source": [
    "%%writefile strokewidth.py\n",
    "\n",
    "size(300,250)\n",
    "\n",
    "stroke(0)\n",
    "strokeWidth(50)\n",
    "translate(50, 50)\n",
    "lineDash(2, 2)\n",
    "line((0, 0), (0, 200))\n",
    "translate(90, 0)\n",
    "lineDash(2, 10, 5, 5)\n",
    "line((0, 0), (0, 200))\n",
    "translate(90, 0)\n",
    "lineDash(None)\n",
    "line((0, 0), (0, 200))"
   ]
  },
  {
   "cell_type": "markdown",
   "id": "upper-gateway",
   "metadata": {},
   "source": [
    "## 3. Render png and show in this notebook"
   ]
  },
  {
   "cell_type": "code",
   "execution_count": 3,
   "id": "fallen-transfer",
   "metadata": {},
   "outputs": [
    {
     "data": {
      "image/png": "[encoded data removed]",
      "text/plain": [
       "<IPython.core.display.Image object>"
      ]
     },
     "execution_count": 3,
     "metadata": {},
     "output_type": "execute_result"
    }
   ],
   "source": [
    "drawShow('strokewidth')"
   ]
  },
  {
   "cell_type": "code",
   "execution_count": null,
   "id": "bored-system",
   "metadata": {},
   "outputs": [],
   "source": []
  }
 ],
 "metadata": {
  "kernelspec": {
   "display_name": "Python 3",
   "language": "python",
   "name": "python3"
  },
  "language_info": {
   "codemirror_mode": {
    "name": "ipython",
    "version": 3
   },
   "file_extension": ".py",
   "mimetype": "text/x-python",
   "name": "python",
   "nbconvert_exporter": "python",
   "pygments_lexer": "ipython3",
   "version": "3.9.2"
  }
 },
 "nbformat": 4,
 "nbformat_minor": 5
}
