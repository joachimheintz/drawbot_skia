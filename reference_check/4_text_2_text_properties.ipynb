{
 "cells": [
  {
   "cell_type": "markdown",
   "id": "breeding-welding",
   "metadata": {},
   "source": [
    "# Text (2)\n",
    "## Text Properties"
   ]
  },
  {
   "cell_type": "code",
   "execution_count": 3,
   "id": "technical-jersey",
   "metadata": {},
   "outputs": [],
   "source": [
    "from IPython.display import Image, SVG, IFrame\n",
    "from os import system\n",
    "from drawbot_skia.drawbot import *\n",
    "\n",
    "def drawShow(name):\n",
    "    call = 'drawbot %s.py %s.png' % (name, name)\n",
    "    system(call)\n",
    "    return Image('%s.png' % name)"
   ]
  },
  {
   "cell_type": "markdown",
   "id": "indie-endorsement",
   "metadata": {},
   "source": [
    "###    font(fontNameOrPath, fontSize=None, fontNumber=0)\n",
    "\n",
    "Set a font with the name of the font. If a font path is given the font will be installed and used directly. Optionally a fontSize can be set directly. The default font, also used as fallback font, is ‘LucidaGrande’. The default fontSize is 10pt.\n",
    "\n",
    "The name of the font relates to the font’s postscript name.\n",
    "\n",
    "The font name is returned, which is handy when the font was loaded from a path. (Obviously not in drawbot-skia.)"
   ]
  },
  {
   "cell_type": "code",
   "execution_count": null,
   "id": "sweet-floating",
   "metadata": {},
   "outputs": [],
   "source": [
    "font('/usr/share/fonts/opentype/freefont/FreeSerifItalic.otf')"
   ]
  },
  {
   "cell_type": "markdown",
   "id": "floppy-delta",
   "metadata": {},
   "source": [
    "###    fontSize(fontSize)\n",
    "\n",
    "Set the font size in points. The default fontSize is 10pt."
   ]
  },
  {
   "cell_type": "code",
   "execution_count": null,
   "id": "owned-agency",
   "metadata": {},
   "outputs": [],
   "source": [
    "fontSize(30)"
   ]
  },
  {
   "cell_type": "markdown",
   "id": "another-gregory",
   "metadata": {},
   "source": [
    "### fallbackFont and hyphenation -> not implemented"
   ]
  },
  {
   "cell_type": "markdown",
   "id": "federal-worry",
   "metadata": {},
   "source": [
    "### lineHeight(value)\n",
    "Set the line height.\n",
    "-> implemented but cannot be used in a text box"
   ]
  },
  {
   "cell_type": "markdown",
   "id": "adolescent-bahamas",
   "metadata": {},
   "source": [
    "### tracking and baselineShift\n",
    "-> not implemented"
   ]
  },
  {
   "cell_type": "markdown",
   "id": "chubby-entertainment",
   "metadata": {},
   "source": [
    "###  openTypeFeatures(frac=True, case=True, ...)\n",
    "\n",
    "Enable OpenType features.\n",
    "\n",
    "Supported OpenType tags:\n",
    "\n",
    "    c2pc, c2sc, calt, case, cpsp, cswh, dlig, frac, liga, lnum, onum, \n",
    "    ordn, pnum, rlig, sinf, smcp, ss01, ss02, ss03, ss04, ss05, ss06, \n",
    "    ss07, ss08, ss09, ss10, ss11, ss12, ss13, ss14, ss15, ss16, ss17, \n",
    "    ss18, ss19, ss20, subs, sups, swsh, titl, tnum\n",
    "\n",
    "A resetFeatures argument can be set to True in order to get back to the default state."
   ]
  },
  {
   "cell_type": "code",
   "execution_count": 11,
   "id": "separate-miniature",
   "metadata": {},
   "outputs": [
    {
     "name": "stdout",
     "output_type": "stream",
     "text": [
      "Overwriting openTypeFeatures.py\n"
     ]
    }
   ],
   "source": [
    "%%writefile 'openTypeFeatures.py'\n",
    "newPage(1000, 300)\n",
    "# set a font\n",
    "font(\"human_sans/HumanSansOTF\")\n",
    "# set the font size\n",
    "fontSize(50)\n",
    "# create a string\n",
    "someTxt = \"aabcde1234567890\"\n",
    "# draw the string\n",
    "text(someTxt, (100, 220))\n",
    "# enable some OpenType features\n",
    "openTypeFeatures(onum=True, smcp=True)\n",
    "# draw the same string\n",
    "text(someTxt, (100, 150))\n",
    "# reset defaults\n",
    "openTypeFeatures(resetFeatures=True)\n",
    "# the same string again, back to default features\n",
    "text(someTxt, (100, 70))"
   ]
  },
  {
   "cell_type": "code",
   "execution_count": 12,
   "id": "level-friend",
   "metadata": {},
   "outputs": [
    {
     "data": {
      "image/png": "[encoded data removed]",
      "text/plain": [
       "<IPython.core.display.Image object>"
      ]
     },
     "execution_count": 12,
     "metadata": {},
     "output_type": "execute_result"
    }
   ],
   "source": [
    "drawShow('openTypeFeatures')\n",
    "# font does not support the features?"
   ]
  },
  {
   "cell_type": "markdown",
   "id": "guided-castle",
   "metadata": {},
   "source": [
    "### listOpenTypeFeatures(fontNameOrPath=None) -> not implemented\n",
    "\n",
    "List all OpenType feature tags for the current font.\n",
    "\n",
    "Optionally a fontNameOrPath can be given. If a font path is given the font will be used directly.\n"
   ]
  },
  {
   "cell_type": "markdown",
   "id": "greenhouse-yorkshire",
   "metadata": {},
   "source": [
    "###  fontVariations(wdth=0.6, wght=0.1, ...)\n",
    "\n",
    "Pick a variation by axes values."
   ]
  },
  {
   "cell_type": "code",
   "execution_count": 8,
   "id": "forward-triangle",
   "metadata": {},
   "outputs": [
    {
     "name": "stdout",
     "output_type": "stream",
     "text": [
      "Overwriting fontVariations.py\n"
     ]
    }
   ],
   "source": [
    "%%writefile 'fontVariations.py'\n",
    "size(1000, 500)\n",
    "# pick a font\n",
    "font(\"human_sans/HumanSansOTF\")\n",
    "# pick a font size\n",
    "fontSize(200)\n",
    "# list all axis from the current font\n",
    "for axis, data in listFontVariations().items():\n",
    "    print((axis, data))\n",
    "# pick a variation from the current font\n",
    "fontVariations(wght=.6)\n",
    "# draw text!!\n",
    "text(\"Hello Q\", (100, 100))\n",
    "# pick a variation from the current font\n",
    "fontVariations(wght=3, wdth=1.2)\n",
    "# draw text!!\n",
    "text(\"Hello Q\", (100, 300))"
   ]
  },
  {
   "cell_type": "code",
   "execution_count": 9,
   "id": "worst-chick",
   "metadata": {},
   "outputs": [
    {
     "data": {
      "image/png": "[encoded data removed]",
      "text/plain": [
       "<IPython.core.display.Image object>"
      ]
     },
     "execution_count": 9,
     "metadata": {},
     "output_type": "execute_result"
    }
   ],
   "source": [
    "drawShow('fontVariations')"
   ]
  },
  {
   "cell_type": "markdown",
   "id": "offshore-clone",
   "metadata": {},
   "source": [
    "###  listFontVariations(fontNameOrPath=None)\n",
    "\n",
    "List all variation axes for the current font.\n",
    "\n",
    "Returns a dictionary with all axis tags instance with an info dictionary with the following keys: name, minValue and maxValue. For non variable fonts an empty dictionary is returned.\n",
    "\n",
    "Optionally a fontNameOrPath can be given. If a font path is given the font will be used directly."
   ]
  },
  {
   "cell_type": "code",
   "execution_count": 14,
   "id": "legitimate-hopkins",
   "metadata": {},
   "outputs": [
    {
     "data": {
      "text/plain": [
       "{}"
      ]
     },
     "execution_count": 14,
     "metadata": {},
     "output_type": "execute_result"
    }
   ],
   "source": [
    "font(\"human_sans/HumanSansOTF\")\n",
    "listFontVariations()"
   ]
  },
  {
   "cell_type": "markdown",
   "id": "about-underwear",
   "metadata": {},
   "source": [
    "### listNamedInstances(fontNameOrPath=None)\n",
    "\n",
    "List all named instances from a variable font for the current font.\n",
    "\n",
    "Returns a dictionary with all named instance as postscript names with their location. For non variable fonts an empty dictionary is returned.\n",
    "\n",
    "Optionally a fontNameOrPath can be given. If a font path is given the font will be used directly.\n"
   ]
  },
  {
   "cell_type": "code",
   "execution_count": 16,
   "id": "hispanic-overview",
   "metadata": {},
   "outputs": [
    {
     "data": {
      "text/plain": [
       "{}"
      ]
     },
     "execution_count": 16,
     "metadata": {},
     "output_type": "execute_result"
    }
   ],
   "source": [
    "listNamedInstances()"
   ]
  },
  {
   "cell_type": "markdown",
   "id": "waiting-radical",
   "metadata": {},
   "source": [
    "###  tabs(*tabs) -> NOT IMPLEMENTED\n",
    "\n",
    "Set tabs, tuples of (float, alignment) Aligment can be “left”, “center”, “right” or any other character. If a character is provided the alignment will be right and centered on the specified character."
   ]
  },
  {
   "cell_type": "code",
   "execution_count": 19,
   "id": "christian-contrast",
   "metadata": {},
   "outputs": [
    {
     "ename": "NameError",
     "evalue": "name 'tabs' is not defined",
     "output_type": "error",
     "traceback": [
      "\u001b[0;31m---------------------------------------------------------------------------\u001b[0m",
      "\u001b[0;31mNameError\u001b[0m                                 Traceback (most recent call last)",
      "\u001b[0;32m<ipython-input-19-7e3751eaaf83>\u001b[0m in \u001b[0;36m<module>\u001b[0;34m\u001b[0m\n\u001b[0;32m----> 1\u001b[0;31m \u001b[0mtabs\u001b[0m\u001b[0;34m(\u001b[0m\u001b[0;34m)\u001b[0m\u001b[0;34m\u001b[0m\u001b[0;34m\u001b[0m\u001b[0m\n\u001b[0m",
      "\u001b[0;31mNameError\u001b[0m: name 'tabs' is not defined"
     ]
    }
   ],
   "source": [
    "tabs()"
   ]
  },
  {
   "cell_type": "markdown",
   "id": "impossible-owner",
   "metadata": {},
   "source": [
    "###  language(language)\n",
    "\n",
    "Set the preferred language as language tag or None to use the default language.\n",
    "\n",
    "Support is depending on local OS.\n",
    "\n",
    "language() will activate the locl OpenType features, if supported by the current font."
   ]
  },
  {
   "cell_type": "code",
   "execution_count": 21,
   "id": "civilian-singles",
   "metadata": {},
   "outputs": [],
   "source": [
    "language('en')"
   ]
  },
  {
   "cell_type": "markdown",
   "id": "premium-subscriber",
   "metadata": {},
   "source": [
    "### Font Properties -> ALL NOT IMPLEMENTED\n",
    "\n",
    "fontContainsCharacters(characters)\n",
    "\n",
    "    Return a bool if the current font contains the provided characters. Characters is a string containing one or more characters.\n",
    "\n",
    "fontContainsGlyph(glyphName)\n",
    "\n",
    "    Return a bool if the current font contains a provided glyph name.\n",
    "\n",
    "fontFilePath()\n",
    "\n",
    "    Return the path to the file of the current font.\n",
    "\n",
    "listFontGlyphNames()\n",
    "\n",
    "    Return a list of glyph names supported by the current font.\n",
    "\n",
    "fontDescender()\n",
    "\n",
    "    Returns the current font descender, based on the current font and fontSize.\n",
    "\n",
    "fontAscender()\n",
    "\n",
    "    Returns the current font ascender, based on the current font and fontSize.\n",
    "\n",
    "fontXHeight()\n",
    "\n",
    "    Returns the current font x-height, based on the current font and fontSize.\n",
    "\n",
    "fontCapHeight()\n",
    "\n",
    "    Returns the current font cap height, based on the current font and fontSize.\n",
    "\n",
    "fontLeading()\n",
    "\n",
    "    Returns the current font leading, based on the current font and fontSize.\n",
    "\n",
    "fontLineHeight()\n",
    "\n",
    "    Returns the current line height, based on the current font and fontSize. If a lineHeight is set, this value will be returned.\n"
   ]
  },
  {
   "cell_type": "code",
   "execution_count": 24,
   "id": "commercial-poster",
   "metadata": {},
   "outputs": [
    {
     "ename": "NameError",
     "evalue": "name 'fontLineHeight' is not defined",
     "output_type": "error",
     "traceback": [
      "\u001b[0;31m---------------------------------------------------------------------------\u001b[0m",
      "\u001b[0;31mNameError\u001b[0m                                 Traceback (most recent call last)",
      "\u001b[0;32m<ipython-input-24-f4df6860075a>\u001b[0m in \u001b[0;36m<module>\u001b[0;34m\u001b[0m\n\u001b[0;32m----> 1\u001b[0;31m \u001b[0mfontLineHeight\u001b[0m\u001b[0;34m(\u001b[0m\u001b[0;34m)\u001b[0m\u001b[0;34m\u001b[0m\u001b[0;34m\u001b[0m\u001b[0m\n\u001b[0m",
      "\u001b[0;31mNameError\u001b[0m: name 'fontLineHeight' is not defined"
     ]
    }
   ],
   "source": [
    "fontLineHeight()"
   ]
  },
  {
   "cell_type": "code",
   "execution_count": null,
   "id": "significant-championship",
   "metadata": {},
   "outputs": [],
   "source": []
  }
 ],
 "metadata": {
  "kernelspec": {
   "display_name": "Python 3",
   "language": "python",
   "name": "python3"
  },
  "language_info": {
   "codemirror_mode": {
    "name": "ipython",
    "version": 3
   },
   "file_extension": ".py",
   "mimetype": "text/x-python",
   "name": "python",
   "nbconvert_exporter": "python",
   "pygments_lexer": "ipython3",
   "version": "3.9.2"
  }
 },
 "nbformat": 4,
 "nbformat_minor": 5
}
