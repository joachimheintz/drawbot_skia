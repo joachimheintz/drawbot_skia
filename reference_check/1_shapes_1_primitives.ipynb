{
 "cells": [
  {
   "cell_type": "markdown",
   "id": "breeding-welding",
   "metadata": {},
   "source": [
    "# Shapes\n",
    "## Primitives"
   ]
  },
  {
   "cell_type": "code",
   "execution_count": 3,
   "id": "technical-jersey",
   "metadata": {},
   "outputs": [],
   "source": [
    "from IPython.display import Image, SVG\n",
    "from os import system\n",
    "from drawbot_skia.drawbot import *\n",
    "\n",
    "def drawShow(name):\n",
    "    call = 'drawbot %s.py %s.png' % (name, name)\n",
    "    system(call)\n",
    "    return Image('%s.png' % name)"
   ]
  },
  {
   "cell_type": "markdown",
   "id": "checked-paste",
   "metadata": {},
   "source": [
    "###  rect(x, y, w, h)\n",
    "Draw a rectangle from position x, y with the given width and height."
   ]
  },
  {
   "cell_type": "code",
   "execution_count": 5,
   "id": "increasing-infrastructure",
   "metadata": {},
   "outputs": [
    {
     "name": "stdout",
     "output_type": "stream",
     "text": [
      "Overwriting rect.py\n"
     ]
    }
   ],
   "source": [
    "%%writefile rect.py\n",
    "\n",
    "size(400,300)\n",
    "\n",
    "rect(100,50,200,200)"
   ]
  },
  {
   "cell_type": "code",
   "execution_count": 6,
   "id": "fallen-transfer",
   "metadata": {},
   "outputs": [
    {
     "data": {
      "image/png": "[encoded data removed]",
      "text/plain": [
       "<IPython.core.display.Image object>"
      ]
     },
     "execution_count": 6,
     "metadata": {},
     "output_type": "execute_result"
    }
   ],
   "source": [
    "drawShow('rect')"
   ]
  },
  {
   "cell_type": "markdown",
   "id": "lasting-simpson",
   "metadata": {},
   "source": [
    "###  oval(x, y, w, h)\n",
    "Draw an oval from position x, y with the given width and height."
   ]
  },
  {
   "cell_type": "code",
   "execution_count": 9,
   "id": "exterior-relaxation",
   "metadata": {},
   "outputs": [
    {
     "name": "stdout",
     "output_type": "stream",
     "text": [
      "Overwriting oval.py\n"
     ]
    }
   ],
   "source": [
    "%%writefile oval.py\n",
    "\n",
    "size(400,300)\n",
    "\n",
    "oval(200,50,200,200)"
   ]
  },
  {
   "cell_type": "code",
   "execution_count": 10,
   "id": "bored-system",
   "metadata": {},
   "outputs": [
    {
     "data": {
      "image/png": "[encoded data removed]",
      "text/plain": [
       "<IPython.core.display.Image object>"
      ]
     },
     "execution_count": 10,
     "metadata": {},
     "output_type": "execute_result"
    }
   ],
   "source": [
    "drawShow('oval')"
   ]
  },
  {
   "cell_type": "markdown",
   "id": "finite-discipline",
   "metadata": {},
   "source": [
    "###  line((x1, y1), (x2, y2)))\n",
    "Draws a line between two given points."
   ]
  },
  {
   "cell_type": "code",
   "execution_count": 11,
   "id": "measured-balloon",
   "metadata": {},
   "outputs": [
    {
     "name": "stdout",
     "output_type": "stream",
     "text": [
      "Writing line.py\n"
     ]
    }
   ],
   "source": [
    "%%writefile line.py\n",
    "\n",
    "size(400,300)\n",
    "# set a stroke color\n",
    "stroke(0)\n",
    "# draw a line between two given points\n",
    "line((100, 50), (300, 300))"
   ]
  },
  {
   "cell_type": "code",
   "execution_count": 12,
   "id": "mechanical-naples",
   "metadata": {
    "scrolled": true
   },
   "outputs": [
    {
     "data": {
      "image/png": "[encoded data removed]",
      "text/plain": [
       "<IPython.core.display.Image object>"
      ]
     },
     "execution_count": 12,
     "metadata": {},
     "output_type": "execute_result"
    }
   ],
   "source": [
    "drawShow('line')"
   ]
  },
  {
   "cell_type": "markdown",
   "id": "norwegian-maple",
   "metadata": {},
   "source": [
    "###   polygon((x1, y1), (x2, y2), ..., close=True)\n",
    "Draws a polygon with n-amount of points. Optionally a close argument can be provided to open or close the path. As default a polygon is a closed path."
   ]
  },
  {
   "cell_type": "code",
   "execution_count": 17,
   "id": "ceramic-cinema",
   "metadata": {},
   "outputs": [
    {
     "name": "stdout",
     "output_type": "stream",
     "text": [
      "Overwriting polygon.py\n"
     ]
    }
   ],
   "source": [
    "%%writefile polygon.py\n",
    "\n",
    "size(400,300)\n",
    "\n",
    "polygon((100, 50), (100, 300), (400, 300), (150, 250), close=True)"
   ]
  },
  {
   "cell_type": "code",
   "execution_count": 18,
   "id": "concerned-concentrate",
   "metadata": {
    "scrolled": true
   },
   "outputs": [
    {
     "data": {
      "image/png": "[encoded data removed]",
      "text/plain": [
       "<IPython.core.display.Image object>"
      ]
     },
     "execution_count": 18,
     "metadata": {},
     "output_type": "execute_result"
    }
   ],
   "source": [
    "drawShow('polygon')"
   ]
  }
 ],
 "metadata": {
  "kernelspec": {
   "display_name": "Python 3",
   "language": "python",
   "name": "python3"
  },
  "language_info": {
   "codemirror_mode": {
    "name": "ipython",
    "version": 3
   },
   "file_extension": ".py",
   "mimetype": "text/x-python",
   "name": "python",
   "nbconvert_exporter": "python",
   "pygments_lexer": "ipython3",
   "version": "3.9.2"
  }
 },
 "nbformat": 4,
 "nbformat_minor": 5
}
