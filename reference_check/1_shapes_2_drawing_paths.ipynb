{
 "cells": [
  {
   "cell_type": "markdown",
   "id": "breeding-welding",
   "metadata": {},
   "source": [
    "# Shapes\n",
    "## Drawing Paths"
   ]
  },
  {
   "cell_type": "code",
   "execution_count": 19,
   "id": "technical-jersey",
   "metadata": {},
   "outputs": [],
   "source": [
    "from IPython.display import Image, SVG\n",
    "from os import system\n",
    "from drawbot_skia.drawbot import *\n",
    "\n",
    "def drawShow(name):\n",
    "    call = 'drawbot %s.py %s.png' % (name, name)\n",
    "    system(call)\n",
    "    return Image('%s.png' % name)"
   ]
  },
  {
   "cell_type": "markdown",
   "id": "checked-paste",
   "metadata": {},
   "source": [
    "###  BezierPath()\n",
    "    Create a new path.\n",
    "\n",
    "### moveTo((x,y))\n",
    "    Move to a point x, y.\n",
    "\n",
    "### lineTo((x,y))\n",
    "    Line to a point x, y.\n",
    "\n",
    "### curveTo((x1,y1),(x2,y2),(x3,y3))\n",
    "    Curve to a point x3, y3. With given bezier handles x1, y1 and x2, y2."
   ]
  },
  {
   "cell_type": "code",
   "execution_count": 70,
   "id": "increasing-infrastructure",
   "metadata": {},
   "outputs": [
    {
     "name": "stdout",
     "output_type": "stream",
     "text": [
      "Overwriting lineTo.py\n"
     ]
    }
   ],
   "source": [
    "%%writefile lineTo.py\n",
    "size(400,300)\n",
    "\n",
    "path = BezierPath()\n",
    "path.moveTo((100,50))\n",
    "path.lineTo((350,100))\n",
    "path.curveTo((400,300),(300,250),(200,100))\n",
    "stroke(0)\n",
    "strokeWidth(3)\n",
    "fill(None)\n",
    "drawPath(path)"
   ]
  },
  {
   "cell_type": "code",
   "execution_count": 71,
   "id": "fallen-transfer",
   "metadata": {},
   "outputs": [
    {
     "data": {
      "image/png": "[encoded data removed]",
      "text/plain": [
       "<IPython.core.display.Image object>"
      ]
     },
     "execution_count": 71,
     "metadata": {},
     "output_type": "execute_result"
    }
   ],
   "source": [
    "drawShow('lineTo')"
   ]
  },
  {
   "cell_type": "markdown",
   "id": "naked-consortium",
   "metadata": {},
   "source": [
    "###  qCurveTo(*points)\n",
    "Quadratic curve with a given set of off curves to a on curve."
   ]
  },
  {
   "cell_type": "code",
   "execution_count": 78,
   "id": "disabled-electronics",
   "metadata": {},
   "outputs": [
    {
     "name": "stdout",
     "output_type": "stream",
     "text": [
      "Overwriting qCurveTo.py\n"
     ]
    }
   ],
   "source": [
    "%%writefile qCurveTo.py\n",
    "size(400,300)\n",
    "\n",
    "path = BezierPath()\n",
    "path.moveTo((100,50))\n",
    "path.lineTo((350,100))\n",
    "path.curveTo((400,300),(300,250),(200,100))\n",
    "path.qCurveTo((100,100),(50,300),(0,0))\n",
    "stroke(0)\n",
    "strokeWidth(3)\n",
    "fill(None)\n",
    "drawPath(path)"
   ]
  },
  {
   "cell_type": "code",
   "execution_count": 79,
   "id": "bored-system",
   "metadata": {},
   "outputs": [
    {
     "data": {
      "image/png": "[encoded data removed]",
      "text/plain": [
       "<IPython.core.display.Image object>"
      ]
     },
     "execution_count": 79,
     "metadata": {},
     "output_type": "execute_result"
    }
   ],
   "source": [
    "drawShow('qCurveTo')"
   ]
  },
  {
   "cell_type": "markdown",
   "id": "rolled-dance",
   "metadata": {},
   "source": [
    "###  arc(center, radius, startAngle, endAngle, clockwise)\n",
    "Arc with center and a given radius, from startAngle to endAngle, going clockwise if clockwise is True and counter clockwise if clockwise is False."
   ]
  },
  {
   "cell_type": "code",
   "execution_count": 86,
   "id": "affiliated-system",
   "metadata": {},
   "outputs": [
    {
     "name": "stdout",
     "output_type": "stream",
     "text": [
      "Overwriting arc.py\n"
     ]
    }
   ],
   "source": [
    "%%writefile arc.py\n",
    "size(200, 200)\n",
    "\n",
    "path = BezierPath()\n",
    "path.moveTo((100, 100))\n",
    "path.arc((100, 100), 80, 230, 170, False)\n",
    "path.arc((100, 100), 60, 30, 120, True)\n",
    "#path.closePath()\n",
    "\n",
    "stroke(0)\n",
    "fill(None)\n",
    "strokeWidth(4)\n",
    "drawPath(path)"
   ]
  },
  {
   "cell_type": "code",
   "execution_count": 87,
   "id": "comparable-quick",
   "metadata": {
    "scrolled": true
   },
   "outputs": [
    {
     "data": {
      "image/png": "[encoded data removed]",
      "text/plain": [
       "<IPython.core.display.Image object>"
      ]
     },
     "execution_count": 87,
     "metadata": {},
     "output_type": "execute_result"
    }
   ],
   "source": [
    "drawShow('arc')"
   ]
  },
  {
   "cell_type": "markdown",
   "id": "outdoor-sport",
   "metadata": {},
   "source": [
    "###    arcTo(xy1, xy2, radius)\n",
    "Arc from one point to an other point with a given radius."
   ]
  },
  {
   "cell_type": "code",
   "execution_count": 104,
   "id": "senior-medicine",
   "metadata": {},
   "outputs": [
    {
     "name": "stdout",
     "output_type": "stream",
     "text": [
      "Overwriting arcTo.py\n"
     ]
    }
   ],
   "source": [
    "%%writefile arcTo.py\n",
    "size(200, 200)\n",
    "\n",
    "path = BezierPath()\n",
    "path.moveTo((20, 20))\n",
    "path.arcTo((20, 180), (180, 180), 80)\n",
    "path.arcTo((180, 180), (110, 20), 30)\n",
    "path.lineTo((110, 20))\n",
    "\n",
    "stroke(0)\n",
    "strokeWidth(4)\n",
    "fill(None)\n",
    "drawPath(path)"
   ]
  },
  {
   "cell_type": "code",
   "execution_count": 105,
   "id": "subtle-transaction",
   "metadata": {
    "scrolled": true
   },
   "outputs": [
    {
     "data": {
      "image/png": "[encoded data removed]",
      "text/plain": [
       "<IPython.core.display.Image object>"
      ]
     },
     "execution_count": 105,
     "metadata": {},
     "output_type": "execute_result"
    }
   ],
   "source": [
    "drawShow('arcTo')"
   ]
  },
  {
   "cell_type": "markdown",
   "id": "constitutional-condition",
   "metadata": {},
   "source": [
    "###  clipPath(path=None)\n",
    "Use the given path as a clipping path, or the current path if no path was given.  \n",
    "Everything drawn after a clipPath() call will be clipped by the clipping path. To “undo” the clipping later, make sure you do the clipping inside a with savedState(): block, as shown in the example."
   ]
  },
  {
   "cell_type": "code",
   "execution_count": 137,
   "id": "patient-broadway",
   "metadata": {},
   "outputs": [
    {
     "name": "stdout",
     "output_type": "stream",
     "text": [
      "Overwriting clipPath.py\n"
     ]
    }
   ],
   "source": [
    "%%writefile clipPath.py\n",
    "size(400,300)\n",
    "path = BezierPath()\n",
    "strokeWidth(3)\n",
    "#draw triangle\n",
    "path.moveTo((50, 50))\n",
    "path.lineTo((50, 250))\n",
    "path.lineTo((250, 50))\n",
    "path.closePath()\n",
    "stroke(1,0,0)\n",
    "fill(None)\n",
    "drawPath(path)\n",
    "# save the graphics state so the clipping happens only temporarily\n",
    "with savedState():\n",
    "    # set the path as a clipping path\n",
    "    clipPath(path)\n",
    "    # the oval will be clipped inside the path\n",
    "    stroke(0,1,0)\n",
    "    oval(10, 10, 150, 150)\n",
    "# no more clipping here\n",
    "stroke(0,0,1)\n",
    "oval(200,10,150,150)"
   ]
  },
  {
   "cell_type": "code",
   "execution_count": 138,
   "id": "exterior-timing",
   "metadata": {},
   "outputs": [
    {
     "data": {
      "image/png": "[encoded data removed]",
      "text/plain": [
       "<IPython.core.display.Image object>"
      ]
     },
     "execution_count": 138,
     "metadata": {},
     "output_type": "execute_result"
    }
   ],
   "source": [
    "drawShow('clipPath')"
   ]
  },
  {
   "cell_type": "code",
   "execution_count": 139,
   "id": "central-remedy",
   "metadata": {},
   "outputs": [
    {
     "name": "stdout",
     "output_type": "stream",
     "text": [
      "Writing clipPath2.py\n"
     ]
    }
   ],
   "source": [
    "%%writefile clipPath2.py\n",
    "size(200, 400)\n",
    "\n",
    "path = BezierPath()\n",
    "path.polygon((80, 28), (50, 146), (146, 152), (172, 78))\n",
    "\n",
    "with savedState():\n",
    "    clipPath(path)\n",
    "    scale(200/512)\n",
    "    image(\"../images/drawbot.png\", (0, 0))\n",
    "\n",
    "translate(0, 200)\n",
    "\n",
    "with savedState():\n",
    "    scale(200/512)\n",
    "    image(\"../images/drawbot.png\", (0, 0))"
   ]
  },
  {
   "cell_type": "code",
   "execution_count": 140,
   "id": "removable-serbia",
   "metadata": {},
   "outputs": [
    {
     "data": {
      "image/png": "[encoded data removed]",
      "text/plain": [
       "<IPython.core.display.Image object>"
      ]
     },
     "execution_count": 140,
     "metadata": {},
     "output_type": "execute_result"
    }
   ],
   "source": [
    "drawShow('clipPath2')"
   ]
  },
  {
   "cell_type": "code",
   "execution_count": 134,
   "id": "peripheral-blend",
   "metadata": {},
   "outputs": [
    {
     "name": "stdout",
     "output_type": "stream",
     "text": [
      "Help on method fill in module drawbot_skia.gstate:\n",
      "\n",
      "fill(*args) method of drawbot_skia.drawing.Drawing instance\n",
      "\n"
     ]
    }
   ],
   "source": [
    "help(fill)"
   ]
  },
  {
   "cell_type": "code",
   "execution_count": null,
   "id": "matched-antarctica",
   "metadata": {},
   "outputs": [],
   "source": []
  }
 ],
 "metadata": {
  "kernelspec": {
   "display_name": "Python 3",
   "language": "python",
   "name": "python3"
  },
  "language_info": {
   "codemirror_mode": {
    "name": "ipython",
    "version": 3
   },
   "file_extension": ".py",
   "mimetype": "text/x-python",
   "name": "python",
   "nbconvert_exporter": "python",
   "pygments_lexer": "ipython3",
   "version": "3.9.2"
  }
 },
 "nbformat": 4,
 "nbformat_minor": 5
}
