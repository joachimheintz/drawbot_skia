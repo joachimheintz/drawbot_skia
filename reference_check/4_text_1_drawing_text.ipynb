{
 "cells": [
  {
   "cell_type": "markdown",
   "id": "breeding-welding",
   "metadata": {},
   "source": [
    "# Text (1)\n",
    "## Drawing Text"
   ]
  },
  {
   "cell_type": "code",
   "execution_count": 7,
   "id": "technical-jersey",
   "metadata": {},
   "outputs": [],
   "source": [
    "from IPython.display import Image, SVG, IFrame\n",
    "from os import system\n",
    "from drawbot_skia.drawbot import *\n",
    "\n",
    "def drawShow(name):\n",
    "    call = 'drawbot %s.py %s.png' % (name, name)\n",
    "    system(call)\n",
    "    return Image('%s.png' % name)"
   ]
  },
  {
   "cell_type": "markdown",
   "id": "floppy-delta",
   "metadata": {},
   "source": [
    "###   text(txt, (x, y), align=None)\n",
    "\n",
    "Draw a text at a provided position.\n",
    "\n",
    "Optionally an alignment can be set. Possible align values are: “left”, “center” and “right”.\n",
    "\n",
    "The default alignment is left.\n",
    "\n",
    "Optionally txt can be a FormattedString."
   ]
  },
  {
   "cell_type": "code",
   "execution_count": 22,
   "id": "separate-miniature",
   "metadata": {},
   "outputs": [
    {
     "name": "stdout",
     "output_type": "stream",
     "text": [
      "Overwriting text.py\n"
     ]
    }
   ],
   "source": [
    "%%writefile 'text.py'\n",
    "size(500,500)\n",
    "# set a font and font size\n",
    "font(\"/usr/share/fonts/opentype/freefont/FreeSerifItalic.otf\", 100)\n",
    "# draw text\n",
    "text(\"hallo\", (100, 300))\n",
    "text(\"I'm Free\", (50, 150))"
   ]
  },
  {
   "cell_type": "code",
   "execution_count": 23,
   "id": "level-friend",
   "metadata": {},
   "outputs": [
    {
     "data": {
      "image/png": "[encoded data removed]",
      "text/plain": [
       "<IPython.core.display.Image object>"
      ]
     },
     "execution_count": 23,
     "metadata": {},
     "output_type": "execute_result"
    }
   ],
   "source": [
    "drawShow('text')"
   ]
  },
  {
   "cell_type": "markdown",
   "id": "nuclear-confirmation",
   "metadata": {},
   "source": [
    "### textSize(txt, align=None, width=None, height=None)\n",
    "\n",
    "Returns the size of a text with the current settings, like font, fontSize and lineHeight as a tuple (width, height).\n",
    "\n",
    "Optionally a width constrain or height constrain can be provided to calculate the lenght or width of text with the given constrain."
   ]
  },
  {
   "cell_type": "code",
   "execution_count": 32,
   "id": "placed-trademark",
   "metadata": {},
   "outputs": [
    {
     "data": {
      "text/plain": [
       "((24.40625, 9.3125), (42.7109375, 16.296875))"
      ]
     },
     "execution_count": 32,
     "metadata": {},
     "output_type": "execute_result"
    }
   ],
   "source": [
    "fontSize(8)\n",
    "size_1 = textSize('blabla')\n",
    "fontSize(14)\n",
    "size_2 = textSize('blabla')\n",
    "size_1, size_2"
   ]
  },
  {
   "cell_type": "markdown",
   "id": "strong-tension",
   "metadata": {},
   "source": [
    "### textBox\n",
    "as stated in the [drawbot-skia sources](https://github.com/justvanrossum/drawbot-skia) the implementation of it remains \"Major Obstacle\""
   ]
  },
  {
   "cell_type": "code",
   "execution_count": null,
   "id": "authentic-manitoba",
   "metadata": {},
   "outputs": [],
   "source": []
  }
 ],
 "metadata": {
  "kernelspec": {
   "display_name": "Python 3",
   "language": "python",
   "name": "python3"
  },
  "language_info": {
   "codemirror_mode": {
    "name": "ipython",
    "version": 3
   },
   "file_extension": ".py",
   "mimetype": "text/x-python",
   "name": "python",
   "nbconvert_exporter": "python",
   "pygments_lexer": "ipython3",
   "version": "3.9.2"
  }
 },
 "nbformat": 4,
 "nbformat_minor": 5
}
