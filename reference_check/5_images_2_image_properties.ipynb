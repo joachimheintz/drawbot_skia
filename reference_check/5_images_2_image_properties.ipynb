{
 "cells": [
  {
   "cell_type": "markdown",
   "id": "breeding-welding",
   "metadata": {},
   "source": [
    "# Images (2)\n",
    "## Image Properties"
   ]
  },
  {
   "cell_type": "code",
   "execution_count": 40,
   "id": "technical-jersey",
   "metadata": {},
   "outputs": [],
   "source": [
    "from IPython.display import Image, SVG, IFrame\n",
    "from os import system\n",
    "from drawbot_skia.drawbot import *\n",
    "\n",
    "def drawShow(name):\n",
    "    call = 'drawbot %s.py %s.png' % (name, name)\n",
    "    system(call)\n",
    "    return Image('%s.png' % name)"
   ]
  },
  {
   "cell_type": "markdown",
   "id": "indie-endorsement",
   "metadata": {},
   "source": [
    "###   imageSize(path) -> NOTIMPLEMTED\n",
    "\n",
    "Return the width and height of an image."
   ]
  },
  {
   "cell_type": "code",
   "execution_count": 41,
   "id": "sweet-floating",
   "metadata": {},
   "outputs": [
    {
     "ename": "NameError",
     "evalue": "name 'imageSize' is not defined",
     "output_type": "error",
     "traceback": [
      "\u001b[0;31m---------------------------------------------------------------------------\u001b[0m",
      "\u001b[0;31mNameError\u001b[0m                                 Traceback (most recent call last)",
      "\u001b[0;32m<ipython-input-41-7a8b878dcd29>\u001b[0m in \u001b[0;36m<module>\u001b[0;34m\u001b[0m\n\u001b[0;32m----> 1\u001b[0;31m \u001b[0mimageSize\u001b[0m\u001b[0;34m(\u001b[0m\u001b[0;34m'images/drawbot.png'\u001b[0m\u001b[0;34m)\u001b[0m\u001b[0;34m\u001b[0m\u001b[0;34m\u001b[0m\u001b[0m\n\u001b[0m",
      "\u001b[0;31mNameError\u001b[0m: name 'imageSize' is not defined"
     ]
    }
   ],
   "source": [
    "imageSize('images/drawbot.png')"
   ]
  },
  {
   "cell_type": "markdown",
   "id": "catholic-uruguay",
   "metadata": {},
   "source": [
    "###  imagePixelColor(path, (x, y)) -> NOT IMPLEMENTED\n",
    "\n",
    "Return the color r, g, b, a of an image at a specified x, y possition."
   ]
  },
  {
   "cell_type": "code",
   "execution_count": 42,
   "id": "ahead-wheat",
   "metadata": {},
   "outputs": [
    {
     "ename": "NameError",
     "evalue": "name 'imagePixelColor' is not defined",
     "output_type": "error",
     "traceback": [
      "\u001b[0;31m---------------------------------------------------------------------------\u001b[0m",
      "\u001b[0;31mNameError\u001b[0m                                 Traceback (most recent call last)",
      "\u001b[0;32m<ipython-input-42-fc680d564a4b>\u001b[0m in \u001b[0;36m<module>\u001b[0;34m\u001b[0m\n\u001b[0;32m----> 1\u001b[0;31m \u001b[0mimagePixelColor\u001b[0m\u001b[0;34m(\u001b[0m\u001b[0;34m)\u001b[0m\u001b[0;34m\u001b[0m\u001b[0;34m\u001b[0m\u001b[0m\n\u001b[0m",
      "\u001b[0;31mNameError\u001b[0m: name 'imagePixelColor' is not defined"
     ]
    }
   ],
   "source": [
    "imagePixelColor()"
   ]
  },
  {
   "cell_type": "markdown",
   "id": "sitting-circular",
   "metadata": {},
   "source": [
    "### imageResolution(path) -> NOT IMPLEMENTED\n",
    "\n",
    "Return the image resolution for a given image.\n",
    "\n",
    "### numberOfPages(path) -> NOT IMPLEMENTED\n",
    "\n",
    "Return the number of pages for a given pdf or (animated) gif."
   ]
  },
  {
   "cell_type": "code",
   "execution_count": 43,
   "id": "subjective-doubt",
   "metadata": {},
   "outputs": [
    {
     "ename": "NameError",
     "evalue": "name 'imageResolution' is not defined",
     "output_type": "error",
     "traceback": [
      "\u001b[0;31m---------------------------------------------------------------------------\u001b[0m",
      "\u001b[0;31mNameError\u001b[0m                                 Traceback (most recent call last)",
      "\u001b[0;32m<ipython-input-43-f581ee59c508>\u001b[0m in \u001b[0;36m<module>\u001b[0;34m\u001b[0m\n\u001b[0;32m----> 1\u001b[0;31m \u001b[0mimageResolution\u001b[0m\u001b[0;34m(\u001b[0m\u001b[0;34m)\u001b[0m\u001b[0;34m\u001b[0m\u001b[0;34m\u001b[0m\u001b[0m\n\u001b[0m",
      "\u001b[0;31mNameError\u001b[0m: name 'imageResolution' is not defined"
     ]
    }
   ],
   "source": [
    "imageResolution()"
   ]
  },
  {
   "cell_type": "code",
   "execution_count": 44,
   "id": "downtown-clerk",
   "metadata": {},
   "outputs": [
    {
     "ename": "NameError",
     "evalue": "name 'numberOfPages' is not defined",
     "output_type": "error",
     "traceback": [
      "\u001b[0;31m---------------------------------------------------------------------------\u001b[0m",
      "\u001b[0;31mNameError\u001b[0m                                 Traceback (most recent call last)",
      "\u001b[0;32m<ipython-input-44-5bc5a966d662>\u001b[0m in \u001b[0;36m<module>\u001b[0;34m\u001b[0m\n\u001b[0;32m----> 1\u001b[0;31m \u001b[0mnumberOfPages\u001b[0m\u001b[0;34m(\u001b[0m\u001b[0;34m)\u001b[0m\u001b[0;34m\u001b[0m\u001b[0;34m\u001b[0m\u001b[0m\n\u001b[0m",
      "\u001b[0;31mNameError\u001b[0m: name 'numberOfPages' is not defined"
     ]
    }
   ],
   "source": [
    "numberOfPages()"
   ]
  },
  {
   "cell_type": "code",
   "execution_count": null,
   "id": "important-graduation",
   "metadata": {},
   "outputs": [],
   "source": []
  }
 ],
 "metadata": {
  "kernelspec": {
   "display_name": "Python 3",
   "language": "python",
   "name": "python3"
  },
  "language_info": {
   "codemirror_mode": {
    "name": "ipython",
    "version": 3
   },
   "file_extension": ".py",
   "mimetype": "text/x-python",
   "name": "python",
   "nbconvert_exporter": "python",
   "pygments_lexer": "ipython3",
   "version": "3.9.2"
  }
 },
 "nbformat": 4,
 "nbformat_minor": 5
}
