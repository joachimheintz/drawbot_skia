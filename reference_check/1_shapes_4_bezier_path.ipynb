{
 "cells": [
  {
   "cell_type": "markdown",
   "id": "breeding-welding",
   "metadata": {},
   "source": [
    "# Shapes (4)\n",
    "## Bezier Path"
   ]
  },
  {
   "cell_type": "code",
   "execution_count": 175,
   "id": "technical-jersey",
   "metadata": {},
   "outputs": [],
   "source": [
    "from IPython.display import Image, SVG\n",
    "from os import system\n",
    "from drawbot_skia.drawbot import *\n",
    "\n",
    "def drawShow(name):\n",
    "    call = 'drawbot %s.py %s.png' % (name, name)\n",
    "    system(call)\n",
    "    return Image('%s.png' % name)"
   ]
  },
  {
   "cell_type": "markdown",
   "id": "apart-election",
   "metadata": {},
   "source": [
    "TODO: look in API examples about what is there and what is not there"
   ]
  },
  {
   "cell_type": "code",
   "execution_count": null,
   "id": "frequent-invitation",
   "metadata": {},
   "outputs": [],
   "source": []
  }
 ],
 "metadata": {
  "kernelspec": {
   "display_name": "Python 3",
   "language": "python",
   "name": "python3"
  },
  "language_info": {
   "codemirror_mode": {
    "name": "ipython",
    "version": 3
   },
   "file_extension": ".py",
   "mimetype": "text/x-python",
   "name": "python",
   "nbconvert_exporter": "python",
   "pygments_lexer": "ipython3",
   "version": "3.9.2"
  }
 },
 "nbformat": 4,
 "nbformat_minor": 5
}
